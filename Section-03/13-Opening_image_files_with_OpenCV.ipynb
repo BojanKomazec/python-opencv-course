{
 "cells": [
  {
   "cell_type": "code",
   "execution_count": null,
   "metadata": {},
   "outputs": [],
   "source": [
    "import cv2"
   ]
  },
  {
   "cell_type": "markdown",
   "metadata": {},
   "source": [
    "To find OpenCV build information we can use:"
   ]
  },
  {
   "cell_type": "code",
   "execution_count": null,
   "metadata": {},
   "outputs": [],
   "source": [
    "cv2.getBuildInformation()"
   ]
  },
  {
   "cell_type": "markdown",
   "metadata": {},
   "source": [
    "If we have installed OpenCV package build agains Qt GUI backend, we can see something like this in the output above:<br/>\n",
    "```\n",
    "GUI: \\n    QT:                          YES (ver 5.6.2)\\n      QT OpenGL support:         NO\\n    GTK+:                        NO\\n\\n\n",
    "```"
   ]
  },
  {
   "cell_type": "markdown",
   "metadata": {},
   "source": [
    "If OpenCV package has GTK or Qt GUI backend the following code should work with no issues - it opens a new window with an image in it and that window can be closed by pressing any key (but NOT the usual 'x' button!):"
   ]
  },
  {
   "cell_type": "code",
   "execution_count": null,
   "metadata": {},
   "outputs": [],
   "source": [
    "img = cv2.imread('../data/00-puppy.jpg')\n",
    "img = cv2.resize(img,(240,240))\n",
    "cv2.imshow('Puppy', img)\n",
    "key = cv2.waitKey() # wait indefinitely for any key to be pressed (but don't close the window with [x])\n",
    "cv2.destroyAllWindows()\n",
    "print(key) # ASCII value of key pressed"
   ]
  },
  {
   "cell_type": "markdown",
   "metadata": {},
   "source": [
    "[int \tcv::waitKey (int delay=0)](https://docs.opencv.org/master/d7/dfc/group__highgui.html#ga5628525ad33f52eab17feebcfba38bd7)"
   ]
  }
 ],
 "metadata": {
  "kernelspec": {
   "display_name": "Python 3",
   "language": "python",
   "name": "python3"
  },
  "language_info": {
   "codemirror_mode": {
    "name": "ipython",
    "version": 3
   },
   "file_extension": ".py",
   "mimetype": "text/x-python",
   "name": "python",
   "nbconvert_exporter": "python",
   "pygments_lexer": "ipython3",
   "version": "3.6.6"
  }
 },
 "nbformat": 4,
 "nbformat_minor": 2
}
