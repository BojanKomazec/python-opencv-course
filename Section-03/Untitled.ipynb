{
 "cells": [
  {
   "cell_type": "code",
   "execution_count": 1,
   "metadata": {},
   "outputs": [],
   "source": [
    "import cv2"
   ]
  },
  {
   "cell_type": "code",
   "execution_count": 2,
   "metadata": {},
   "outputs": [
    {
     "data": {
      "text/plain": [
       "'\\nGeneral configuration for OpenCV 4.1.0 =====================================\\n  Version control:               90416df\\n\\n  Extra modules:\\n    Location (extra):            /home/conda/feedstock_root/build_artifacts/opencv_1556233957555/work/opencv_contrib/modules\\n    Version control (extra):     90416df\\n\\n  Platform:\\n    Timestamp:                   2019-04-25T23:17:35Z\\n    Host:                        Linux 4.15.0-1041-azure x86_64\\n    CMake:                       3.14.3\\n    CMake generator:             Ninja\\n    CMake build tool:            /home/conda/feedstock_root/build_artifacts/opencv_1556233957555/_build_env/bin/ninja\\n    Configuration:               Release\\n\\n  CPU/HW features:\\n    Baseline:                    SSE SSE2 SSE3\\n      requested:                 SSE3\\n    Dispatched code generation:  SSE4_1 SSE4_2 FP16 AVX AVX2 AVX512_SKX\\n      requested:                 SSE4_1 SSE4_2 AVX FP16 AVX2 AVX512_SKX\\n      SSE4_1 (13 files):         + SSSE3 SSE4_1\\n      SSE4_2 (1 files):          + SSSE3 SSE4_1 POPCNT SSE4_2\\n      FP16 (0 files):            + SSSE3 SSE4_1 POPCNT SSE4_2 FP16 AVX\\n      AVX (4 files):             + SSSE3 SSE4_1 POPCNT SSE4_2 AVX\\n      AVX2 (27 files):           + SSSE3 SSE4_1 POPCNT SSE4_2 FP16 FMA3 AVX AVX2\\n      AVX512_SKX (2 files):      + SSSE3 SSE4_1 POPCNT SSE4_2 FP16 FMA3 AVX AVX2 AVX_512F AVX512_SKX\\n\\n  C/C++:\\n    Built as dynamic libs?:      YES\\n    C++ Compiler:                /home/conda/feedstock_root/build_artifacts/opencv_1556233957555/_build_env/bin/x86_64-conda_cos6-linux-gnu-c++  (ver 7.3.0)\\n    C++ flags (Release):         -fvisibility-inlines-hidden -std=c++11 -fmessage-length=0 -march=nocona -mtune=haswell -ftree-vectorize -fPIC -fstack-protector-strong -fno-plt -O2 -pipe -I/home/bojan/anaconda3/envs/python-cvcourse/include -fdebug-prefix-map=${SRC_DIR}=/usr/local/src/conda/${PKG_NAME}-${PKG_VERSION} -fdebug-prefix-map=${PREFIX}=/usr/local/src/conda-prefix -D__STDC_CONSTANT_MACROS   -fsigned-char -W -Wall -Werror=return-type -Werror=non-virtual-dtor -Werror=address -Werror=sequence-point -Wformat -Werror=format-security -Wmissing-declarations -Wundef -Winit-self -Wpointer-arith -Wshadow -Wsign-promo -Wuninitialized -Winit-self -Wno-delete-non-virtual-dtor -Wno-comment -Wimplicit-fallthrough=3 -Wno-strict-overflow -fdiagnostics-show-option -Wno-long-long -pthread -fomit-frame-pointer -ffunction-sections -fdata-sections  -msse -msse2 -msse3 -fopenmp -O3 -DNDEBUG  -DNDEBUG\\n    C++ flags (Debug):           -fvisibility-inlines-hidden -std=c++11 -fmessage-length=0 -march=nocona -mtune=haswell -ftree-vectorize -fPIC -fstack-protector-strong -fno-plt -O2 -pipe -I/home/bojan/anaconda3/envs/python-cvcourse/include -fdebug-prefix-map=${SRC_DIR}=/usr/local/src/conda/${PKG_NAME}-${PKG_VERSION} -fdebug-prefix-map=${PREFIX}=/usr/local/src/conda-prefix -D__STDC_CONSTANT_MACROS   -fsigned-char -W -Wall -Werror=return-type -Werror=non-virtual-dtor -Werror=address -Werror=sequence-point -Wformat -Werror=format-security -Wmissing-declarations -Wundef -Winit-self -Wpointer-arith -Wshadow -Wsign-promo -Wuninitialized -Winit-self -Wno-delete-non-virtual-dtor -Wno-comment -Wimplicit-fallthrough=3 -Wno-strict-overflow -fdiagnostics-show-option -Wno-long-long -pthread -fomit-frame-pointer -ffunction-sections -fdata-sections  -msse -msse2 -msse3 -fopenmp -g  -DDEBUG -D_DEBUG\\n    C Compiler:                  /home/conda/feedstock_root/build_artifacts/opencv_1556233957555/_build_env/bin/x86_64-conda_cos6-linux-gnu-cc\\n    C flags (Release):           -march=nocona -mtune=haswell -ftree-vectorize -fPIC -fstack-protector-strong -fno-plt -O2 -pipe -I/home/bojan/anaconda3/envs/python-cvcourse/include -fdebug-prefix-map=${SRC_DIR}=/usr/local/src/conda/${PKG_NAME}-${PKG_VERSION} -fdebug-prefix-map=${PREFIX}=/usr/local/src/conda-prefix   -fsigned-char -W -Wall -Werror=return-type -Werror=non-virtual-dtor -Werror=address -Werror=sequence-point -Wformat -Werror=format-security -Wmissing-declarations -Wmissing-prototypes -Wstrict-prototypes -Wundef -Winit-self -Wpointer-arith -Wshadow -Wuninitialized -Winit-self -Wno-comment -Wimplicit-fallthrough=3 -Wno-strict-overflow -fdiagnostics-show-option -Wno-long-long -pthread -fomit-frame-pointer -ffunction-sections -fdata-sections  -msse -msse2 -msse3 -fopenmp -O3 -DNDEBUG  -DNDEBUG\\n    C flags (Debug):             -march=nocona -mtune=haswell -ftree-vectorize -fPIC -fstack-protector-strong -fno-plt -O2 -pipe -I/home/bojan/anaconda3/envs/python-cvcourse/include -fdebug-prefix-map=${SRC_DIR}=/usr/local/src/conda/${PKG_NAME}-${PKG_VERSION} -fdebug-prefix-map=${PREFIX}=/usr/local/src/conda-prefix   -fsigned-char -W -Wall -Werror=return-type -Werror=non-virtual-dtor -Werror=address -Werror=sequence-point -Wformat -Werror=format-security -Wmissing-declarations -Wmissing-prototypes -Wstrict-prototypes -Wundef -Winit-self -Wpointer-arith -Wshadow -Wuninitialized -Winit-self -Wno-comment -Wimplicit-fallthrough=3 -Wno-strict-overflow -fdiagnostics-show-option -Wno-long-long -pthread -fomit-frame-pointer -ffunction-sections -fdata-sections  -msse -msse2 -msse3 -fopenmp -g  -DDEBUG -D_DEBUG\\n    Linker flags (Release):      -Wl,-O2 -Wl,--sort-common -Wl,--as-needed -Wl,-z,relro -Wl,-z,now -Wl,--disable-new-dtags -Wl,-rpath,/home/bojan/anaconda3/envs/python-cvcourse/lib -L/home/bojan/anaconda3/envs/python-cvcourse/lib -Wl,-rpath-link,/home/bojan/anaconda3/envs/python-cvcourse/lib  -Wl,--gc-sections  \\n    Linker flags (Debug):        -Wl,-O2 -Wl,--sort-common -Wl,--as-needed -Wl,-z,relro -Wl,-z,now -Wl,--disable-new-dtags -Wl,-rpath,/home/bojan/anaconda3/envs/python-cvcourse/lib -L/home/bojan/anaconda3/envs/python-cvcourse/lib -Wl,-rpath-link,/home/bojan/anaconda3/envs/python-cvcourse/lib  -Wl,--gc-sections  \\n    ccache:                      NO\\n    Precompiled headers:         YES\\n    Extra dependencies:          dl m pthread rt\\n    3rdparty dependencies:\\n\\n  OpenCV modules:\\n    To be built:                 aruco bgsegm bioinspired calib3d ccalib core cvv datasets dnn dnn_objdetect dpm face features2d flann freetype fuzzy gapi hdf hfs highgui img_hash imgcodecs imgproc line_descriptor ml objdetect optflow phase_unwrapping photo plot python3 quality reg rgbd saliency shape stereo stitching structured_light superres surface_matching text tracking video videoio videostab xfeatures2d ximgproc xobjdetect xphoto\\n    Disabled:                    world\\n    Disabled by dependency:      -\\n    Unavailable:                 cnn_3dobj cudaarithm cudabgsegm cudacodec cudafeatures2d cudafilters cudaimgproc cudalegacy cudaobjdetect cudaoptflow cudastereo cudawarping cudev java js matlab ovis python2 sfm ts viz\\n    Applications:                apps\\n    Documentation:               NO\\n    Non-free algorithms:         NO\\n\\n  GUI: \\n    QT:                          YES (ver 5.6.2)\\n      QT OpenGL support:         NO\\n    GTK+:                        NO\\n\\n  Media I/O: \\n    ZLib:                        /home/bojan/anaconda3/envs/python-cvcourse/lib/libz.so (ver 1.2.11)\\n    JPEG:                        /home/bojan/anaconda3/envs/python-cvcourse/lib/libjpeg.so (ver 90)\\n    WEBP:                        /home/bojan/anaconda3/envs/python-cvcourse/lib/libwebp.so (ver encoder: 0x020e)\\n    PNG:                         /home/bojan/anaconda3/envs/python-cvcourse/lib/libpng.so (ver 1.6.35)\\n    TIFF:                        /home/bojan/anaconda3/envs/python-cvcourse/lib/libtiff.so (ver 42 / 4.0.9)\\n    JPEG 2000:                   /home/bojan/anaconda3/envs/python-cvcourse/lib/libjasper.so (ver 1.900.1)\\n    OpenEXR:                     build (ver 1.7.1)\\n    HDR:                         YES\\n    SUNRASTER:                   YES\\n    PXM:                         YES\\n    PFM:                         YES\\n\\n  Video I/O:\\n    DC1394:                      NO\\n    FFMPEG:                      YES\\n      avcodec:                   YES (58.35.100)\\n      avformat:                  YES (58.20.100)\\n      avutil:                    YES (56.22.100)\\n      swscale:                   YES (5.3.100)\\n      avresample:                YES (4.0.0)\\n\\n  Parallel framework:            OpenMP\\n\\n  Trace:                         YES (with Intel ITT)\\n\\n  Other third-party libraries:\\n    Intel IPP:                   2019.0.0 Gold [2019.0.0]\\n           at:                   /home/conda/feedstock_root/build_artifacts/opencv_1556233957555/work/build/3rdparty/ippicv/ippicv_lnx/icv\\n    Intel IPP IW:                sources (2019.0.0)\\n              at:                /home/conda/feedstock_root/build_artifacts/opencv_1556233957555/work/build/3rdparty/ippicv/ippicv_lnx/iw\\n    Lapack:                      NO\\n    Eigen:                       YES (ver 3.3.7)\\n    Custom HAL:                  NO\\n    Protobuf:                    build (3.5.1)\\n\\n  Python 3:\\n    Interpreter:                 /home/bojan/anaconda3/envs/python-cvcourse/bin/python (ver 3.6.7)\\n    Libraries:                   /home/bojan/anaconda3/envs/python-cvcourse/lib/libpython3.6m.so (ver 3.6.7)\\n    numpy:                       /home/bojan/anaconda3/envs/python-cvcourse/lib/python3.6/site-packages/numpy/core/include (ver 1.9.3)\\n    install path:                /home/bojan/anaconda3/envs/python-cvcourse/lib/python3.6/site-packages\\n\\n  Python (for build):            /home/bojan/anaconda3/envs/python-cvcourse/bin/python\\n\\n  Java:                          \\n    ant:                         NO\\n    JNI:                         NO\\n    Java wrappers:               NO\\n    Java tests:                  NO\\n\\n  Install to:                    /home/bojan/anaconda3/envs/python-cvcourse\\n-----------------------------------------------------------------\\n\\n'"
      ]
     },
     "execution_count": 2,
     "metadata": {},
     "output_type": "execute_result"
    }
   ],
   "source": [
    "cv2.getBuildInformation()"
   ]
  },
  {
   "cell_type": "code",
   "execution_count": 3,
   "metadata": {},
   "outputs": [],
   "source": [
    "import numpy as np"
   ]
  },
  {
   "cell_type": "code",
   "execution_count": 4,
   "metadata": {},
   "outputs": [],
   "source": [
    "cv2.imshow('darkness', np.zeros((100, 100)))"
   ]
  },
  {
   "cell_type": "code",
   "execution_count": null,
   "metadata": {},
   "outputs": [],
   "source": []
  }
 ],
 "metadata": {
  "kernelspec": {
   "display_name": "Python 3",
   "language": "python",
   "name": "python3"
  },
  "language_info": {
   "codemirror_mode": {
    "name": "ipython",
    "version": 3
   },
   "file_extension": ".py",
   "mimetype": "text/x-python",
   "name": "python",
   "nbconvert_exporter": "python",
   "pygments_lexer": "ipython3",
   "version": "3.6.6"
  }
 },
 "nbformat": 4,
 "nbformat_minor": 2
}
