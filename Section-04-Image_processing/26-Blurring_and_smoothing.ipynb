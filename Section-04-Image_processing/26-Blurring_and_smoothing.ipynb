{
 "cells": [
  {
   "cell_type": "markdown",
   "metadata": {},
   "source": [
    "# Blurring and Smoothing\n",
    "\n",
    "Smoothing an image gets rid of noise or helps CV application focusing on general details.\n",
    "\n",
    "Blurring and smoothing are often combined with edge detection. Edge detection algorithms detect too many edges when shown in high resolution image without any blurring.\n",
    "\n",
    "Gamma correction can be applied to an image to make it appear brighter or darker depening on the Gamma value chosen. This is what's actually used when using Brightness option when editing a digital image.\n",
    "\n",
    "Kernel-based filters.Kernels can be applied over an image to produce a variety of effects.\n",
    "\n",
    "[Matrix_multiplication](https://en.wikipedia.org/wiki/Matrix_multiplication)\n",
    "\n",
    "http://setosa.io/ev/image-kernels\n",
    "\n",
    "\n"
   ]
  }
 ],
 "metadata": {
  "kernelspec": {
   "display_name": "Python 3",
   "language": "python",
   "name": "python3"
  },
  "language_info": {
   "codemirror_mode": {
    "name": "ipython",
    "version": 3
   },
   "file_extension": ".py",
   "mimetype": "text/x-python",
   "name": "python",
   "nbconvert_exporter": "python",
   "pygments_lexer": "ipython3",
   "version": "3.6.6"
  }
 },
 "nbformat": 4,
 "nbformat_minor": 2
}
