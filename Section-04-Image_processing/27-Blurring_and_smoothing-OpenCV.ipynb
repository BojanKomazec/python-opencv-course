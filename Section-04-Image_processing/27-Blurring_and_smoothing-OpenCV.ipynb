{
 "cells": [
  {
   "cell_type": "markdown",
   "metadata": {},
   "source": [
    "# Blurring and Smoothing with OpenCV"
   ]
  },
  {
   "cell_type": "code",
   "execution_count": null,
   "metadata": {},
   "outputs": [],
   "source": [
    "import cv2\n",
    "import numpy as np\n",
    "import matplotlib.pyplot as plt"
   ]
  },
  {
   "cell_type": "code",
   "execution_count": null,
   "metadata": {},
   "outputs": [],
   "source": [
    "def load_img():\n",
    "    img = cv2.imread('../data/bricks.jpg').astype(np.float32) / 255\n",
    "    img = cv2.cvtColor(img, cv2.COLOR_BGR2RGB)\n",
    "    return img"
   ]
  },
  {
   "cell_type": "code",
   "execution_count": null,
   "metadata": {},
   "outputs": [],
   "source": [
    "# uncomment to test that the function works\n",
    "# load_img()"
   ]
  },
  {
   "cell_type": "code",
   "execution_count": null,
   "metadata": {},
   "outputs": [],
   "source": [
    "def display_img(img):\n",
    "    fig = plt.figure(figsize=(12,10))\n",
    "    ax = fig.add_subplot(111)\n",
    "    ax.imshow(img)"
   ]
  },
  {
   "cell_type": "code",
   "execution_count": null,
   "metadata": {},
   "outputs": [],
   "source": [
    "i = load_img()\n",
    "display_img(i)"
   ]
  },
  {
   "cell_type": "markdown",
   "metadata": {},
   "source": [
    "## Gamma Correction\n",
    "\n",
    "Gamma correction allows to increase or decrease what is percieved as brightness of the image.\n",
    "Gamma < 1 means the image will be brighter."
   ]
  },
  {
   "cell_type": "code",
   "execution_count": null,
   "metadata": {},
   "outputs": [],
   "source": [
    "gamma = 1/4\n",
    "result = np.power(i, gamma)\n",
    "display_img(result)"
   ]
  },
  {
   "cell_type": "markdown",
   "metadata": {},
   "source": [
    "If gamma > 1 the image will appear darker."
   ]
  },
  {
   "cell_type": "code",
   "execution_count": null,
   "metadata": {},
   "outputs": [],
   "source": [
    "gamma = 2\n",
    "result = np.power(i, gamma)\n",
    "display_img(result)"
   ]
  },
  {
   "cell_type": "markdown",
   "metadata": {},
   "source": [
    "## Blurring\n",
    "\n",
    "### Low-pass filter of 2D convolution\n",
    "\n",
    "We will write some text on the image with the font where we can see lines of the edges of each character. We will be blurring and smoothing these lines.\n",
    "\n",
    "[Smoothing Images](https://docs.opencv.org/master/d4/d13/tutorial_py_filtering.html)\n",
    "\n",
    "LPF (Low-Pass filter; filter where components with low frequencies pass/remain) helps in removing noise, blurring images, etc. HPF (High-Pass Filter) filters help in finding edges in images.\n",
    "\n",
    "\n",
    "[cv::filter2D](https://docs.opencv.org/master/d4/d86/group__imgproc__filter.html#ga27c049795ce870216ddfb366086b5a04) convolves the image with the kernel. For pixel p(x, y) in the initial image, it centers the central pixel of the kernel above it, multiplies values of matching kernel elements and pixels, calculates the sum of these values and averages it by the total size of the kernel. If we have kernel of size 5x5, then we'd divide this value by 25. Finally, it assignes this new value (the weighted average of neigbour pixels) to this pixel p(x, y). This is how pixels near the edges get blurred - as they take some of the intensiti of the neighbouring edge color.\n",
    "\n",
    "https://docs.gimp.org/2.8/en/plug-in-convmatrix.html\n"
   ]
  },
  {
   "cell_type": "code",
   "execution_count": null,
   "metadata": {},
   "outputs": [],
   "source": [
    "img = load_img()\n",
    "font = cv2.FONT_HERSHEY_COMPLEX\n",
    "cv2.putText(img, text='bricks', org=(10, 600), fontFace=font, fontScale=10, color=(255, 0, 0), thickness=4)\n",
    "display_img(img)"
   ]
  },
  {
   "cell_type": "code",
   "execution_count": null,
   "metadata": {},
   "outputs": [],
   "source": [
    "#\n",
    "# Setting up the kernel for the low-pass filter\n",
    "# Type of kernel elements needs to match the type of the elements in the image matrix, so let's first check what that type is:\n",
    "#\n",
    "print(f'type(img[0,0,0]) = {type(img[0,0,0])}')"
   ]
  },
  {
   "cell_type": "code",
   "execution_count": null,
   "metadata": {},
   "outputs": [],
   "source": [
    "kernel = np.ones(shape=(5, 5), dtype=np.float32) / 25 "
   ]
  },
  {
   "cell_type": "code",
   "execution_count": null,
   "metadata": {},
   "outputs": [],
   "source": [
    "kernel"
   ]
  },
  {
   "cell_type": "markdown",
   "metadata": {},
   "source": [
    "\n",
    "\n",
    "\n",
    "[Explanation for ddepth parameter in cv2.filter2d() opencv? - Stack Overflow](https://stackoverflow.com/questions/43392956/explanation-for-ddepth-parameter-in-cv2-filter2d-opencv)\n",
    "\n",
    "[image type vs image depth - OpenCV forum](https://answers.opencv.org/question/4783/image-type-vs-image-depth/)"
   ]
  },
  {
   "cell_type": "code",
   "execution_count": null,
   "metadata": {},
   "outputs": [],
   "source": [
    "# -1 is destination depth (data type e.g. unsigned short, int...used to represent fundamental color intensity); -1 means that it should be the same as in the input image \n",
    "dst = cv2.filter2D(img, -1, kernel)\n",
    "\n",
    "# the output will look a bit blurred\n",
    "display_img(dst)"
   ]
  },
  {
   "cell_type": "code",
   "execution_count": null,
   "metadata": {},
   "outputs": [],
   "source": [
    "# reset the image\n",
    "img = load_img()\n",
    "font = cv2.FONT_HERSHEY_COMPLEX\n",
    "cv2.putText(img, text='bricks', org=(10, 600), fontFace=font, fontScale=10, color=(255, 0, 0), thickness=4)\n",
    "display_img(img)"
   ]
  },
  {
   "cell_type": "markdown",
   "metadata": {},
   "source": [
    "## Smoothing based off averaging"
   ]
  },
  {
   "cell_type": "markdown",
   "metadata": {},
   "source": [
    "There is a default blur kernel, a predefined blur kernel used automatially in `cv2.blur()`:"
   ]
  },
  {
   "cell_type": "code",
   "execution_count": null,
   "metadata": {},
   "outputs": [],
   "source": [
    "blurred = cv2.blur(img, ksize=(5, 5))\n",
    "# the output will look a bit blurred\n",
    "display_img(blurred)"
   ]
  },
  {
   "cell_type": "code",
   "execution_count": null,
   "metadata": {},
   "outputs": [],
   "source": [
    "blurred = cv2.blur(img, ksize=(10, 10))\n",
    "# the output will look a more blurred as the kernel size iz increasing\n",
    "display_img(blurred)"
   ]
  },
  {
   "cell_type": "markdown",
   "metadata": {},
   "source": [
    "## Gaussian Blurring"
   ]
  },
  {
   "cell_type": "code",
   "execution_count": null,
   "metadata": {},
   "outputs": [],
   "source": [
    "# reset the image\n",
    "img = load_img()\n",
    "font = cv2.FONT_HERSHEY_COMPLEX\n",
    "cv2.putText(img, text='bricks', org=(10, 600), fontFace=font, fontScale=10, color=(255, 0, 0), thickness=4)\n",
    "# display_img(img)"
   ]
  },
  {
   "cell_type": "code",
   "execution_count": null,
   "metadata": {},
   "outputs": [],
   "source": [
    "blurred_gaus = cv2.GaussianBlur(src=img, ksize=(5, 5), sigmaX=10)\n",
    "display_img(blurred_gaus)"
   ]
  },
  {
   "cell_type": "markdown",
   "metadata": {},
   "source": [
    "## Median Blurring\n",
    "\n",
    "Good in blurring the image, removing the noise but keeping the details in check."
   ]
  },
  {
   "cell_type": "code",
   "execution_count": null,
   "metadata": {},
   "outputs": [],
   "source": [
    "# reset the image\n",
    "img = load_img()\n",
    "font = cv2.FONT_HERSHEY_COMPLEX\n",
    "cv2.putText(img, text='bricks', org=(10, 600), fontFace=font, fontScale=10, color=(255, 0, 0), thickness=4)\n",
    "# display_img(img)"
   ]
  },
  {
   "cell_type": "code",
   "execution_count": null,
   "metadata": {},
   "outputs": [],
   "source": [
    "blurred_median = cv2.medianBlur(img, 5)\n",
    "display_img(blurred_median)"
   ]
  },
  {
   "cell_type": "code",
   "execution_count": null,
   "metadata": {},
   "outputs": [],
   "source": [
    "# example with the image with noise\n",
    "img = cv2.imread('../data/sammy.jpg')\n",
    "img = cv2.cvtColor(img, cv2.COLOR_BGR2RGB)\n",
    "display_img(img)"
   ]
  },
  {
   "cell_type": "code",
   "execution_count": null,
   "metadata": {},
   "outputs": [],
   "source": [
    "# this image is already in RGB\n",
    "# It is made from previous one by adding a noise (adding random color values at random pixels)\n",
    "noise_img = cv2.imread('../data/sammy_noise.jpg')\n",
    "display_img(noise_img)"
   ]
  },
  {
   "cell_type": "code",
   "execution_count": null,
   "metadata": {},
   "outputs": [],
   "source": [
    "# Let's see if we can use median blur to remove this noise\n",
    "median = cv2.medianBlur(noise_img, 5)\n",
    "# the output image has the noise removed but it's a bit blurry\n",
    "display_img(median)"
   ]
  },
  {
   "cell_type": "markdown",
   "metadata": {},
   "source": [
    "## Bilateral filtering\n",
    "\n",
    "This is another way to do blurring.\n",
    "It reduces unwanted noise and keeps edges fairly sharp but is usually slower than other filters."
   ]
  },
  {
   "cell_type": "code",
   "execution_count": null,
   "metadata": {},
   "outputs": [],
   "source": [
    "# reset the image\n",
    "img = load_img()\n",
    "font = cv2.FONT_HERSHEY_COMPLEX\n",
    "cv2.putText(img, text='bricks', org=(10, 600), fontFace=font, fontScale=10, color=(255, 0, 0), thickness=4)\n",
    "display_img(img)"
   ]
  },
  {
   "cell_type": "code",
   "execution_count": null,
   "metadata": {},
   "outputs": [],
   "source": [
    "blur = cv2.bilateralFilter(img, 9, 75, 75)\n",
    "display_img(blur)"
   ]
  }
 ],
 "metadata": {
  "kernelspec": {
   "display_name": "Python 3",
   "language": "python",
   "name": "python3"
  },
  "language_info": {
   "codemirror_mode": {
    "name": "ipython",
    "version": 3
   },
   "file_extension": ".py",
   "mimetype": "text/x-python",
   "name": "python",
   "nbconvert_exporter": "python",
   "pygments_lexer": "ipython3",
   "version": "3.6.6"
  }
 },
 "nbformat": 4,
 "nbformat_minor": 2
}
