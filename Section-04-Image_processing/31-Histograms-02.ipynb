{
 "cells": [
  {
   "cell_type": "markdown",
   "metadata": {},
   "source": [
    "# Histograms (2/3)\n",
    "\n",
    "## Histograms on a masked portion of the image\n",
    "\n",
    "We can select ROI and calculate the color histogram only of that masked section. So, how to create a mask?"
   ]
  },
  {
   "cell_type": "markdown",
   "metadata": {},
   "source": [
    "## Histogram Equalization\n",
    "\n",
    "Previously, we used Gamma correction to increasre or decrease brightness of the image.\n",
    "\n",
    "Now, we'll use histogram equalization, a method of contrast adjustment (increase or decrease) based on the image's histogram. It is flattening the peaks in histogram.\n",
    "\n",
    "Applying histogram equalization will reduce the color depth (shades of gray in grayscale image; or value range of the particular colour in colour image). To flatten the peak of histogram means that original min and max values will become 0 and 255 and all the rest values will be proportonally adjusted. This means that image will get increased contrast (less shades of particular colour).\n",
    "\n",
    "If we look at cumulative histogram representation, it becomes a linear step function, after equalization (it increases gradually rather suddenly)."
   ]
  },
  {
   "cell_type": "code",
   "execution_count": null,
   "metadata": {},
   "outputs": [],
   "source": [
    "import cv2\n",
    "import numpy as np\n",
    "import matplotlib.pyplot as plt"
   ]
  },
  {
   "cell_type": "code",
   "execution_count": null,
   "metadata": {},
   "outputs": [],
   "source": [
    "rainbow = cv2.imread('../data/rainbow.jpg')\n",
    "# print(type(rainbow)) # check if image loading was successful\n",
    "# plt.imshow(rainbow)\n",
    "show_rainbow = cv2.cvtColor(rainbow, cv2.COLOR_BGR2RGB) # OpenCV loaded image in BGR space but matplotlib requires RGB\n",
    "plt.imshow(show_rainbow)\n",
    "# colors seem to be equally distributed across values; no significant peaks are expected in histogram"
   ]
  },
  {
   "cell_type": "code",
   "execution_count": null,
   "metadata": {},
   "outputs": [],
   "source": [
    "img = rainbow\n",
    "img.shape"
   ]
  },
  {
   "cell_type": "code",
   "execution_count": null,
   "metadata": {},
   "outputs": [],
   "source": [
    "# Creating a mask\n",
    "# We want to apply it across all 3 colour channels so don't take 3rd dimension; it'll be 2-D so we want to take only x and y dimensions:\n",
    "mask = np.zeros(img.shape[:2], np.uint8)\n",
    "mask.shape"
   ]
  },
  {
   "cell_type": "code",
   "execution_count": null,
   "metadata": {},
   "outputs": [],
   "source": [
    "plt.imshow(mask, cmap='gray')\n",
    "# as all values are zeros, mask is currently black"
   ]
  },
  {
   "cell_type": "code",
   "execution_count": null,
   "metadata": {},
   "outputs": [],
   "source": [
    "# we want to take actually one portion of this rectangle\n",
    "# slicing works as rows, columns so let's say we want to go from rows 300 to 400 and columns 100 to 400:\n",
    "mask[300:400, 100:400] = 255\n",
    "plt.imshow(mask, cmap='gray')"
   ]
  },
  {
   "cell_type": "code",
   "execution_count": null,
   "metadata": {},
   "outputs": [],
   "source": [
    "# We will be masking show_rainbow image\n",
    "\n",
    "plt.imshow(show_rainbow)"
   ]
  },
  {
   "cell_type": "markdown",
   "metadata": {},
   "source": [
    "Let's remember how bitwise AND works.\n",
    "\n",
    "```\n",
    "dst = cv2.bitwise_and(src1, src2, mask)\n",
    "```\n",
    "\n",
    "For each pixel where `mask[x, y] != 0` the output is the result of logical AND which means that wherever mask is not black (white in our case) the image pixels will remain the same.\n",
    "For each pixel where `mask[x, y] = 0` the output is `0` which means we'll have black wherever mask is black.\n",
    "\n",
    "[cv2.bitwise_and()](https://docs.opencv.org/master/d2/de8/group__core__array.html#ga60b4d04b251ba5eb1392c34425497e14)\n",
    "\n",
    "[python - explain arguments meaning in res = cv2.bitwise_and(img,img,mask = mask) - Stack Overflow](https://stackoverflow.com/questions/32774956/explain-arguments-meaning-in-res-cv2-bitwise-andimg-img-mask-mask)\n",
    "\n",
    "[python - What does bitwise_and operator exactly do in openCV? - Stack Overflow](https://stackoverflow.com/questions/44333605/what-does-bitwise-and-operator-exactly-do-in-opencv)"
   ]
  },
  {
   "cell_type": "code",
   "execution_count": null,
   "metadata": {},
   "outputs": [],
   "source": [
    "# img is used for histogram calculations (keeps original OpenCV BGR color scheme)\n",
    "masked_img = cv2.bitwise_and(src1=img, src2=img, mask=mask)\n",
    "\n",
    "# show_masked_img is used just for visualisation with matplotlib (has converted color scheme to RGB)\n",
    "show_masked_img = cv2.bitwise_and(src1=show_rainbow, src2=show_rainbow, mask=mask)\n",
    "plt.imshow(show_masked_img)"
   ]
  },
  {
   "cell_type": "code",
   "execution_count": null,
   "metadata": {},
   "outputs": [],
   "source": [
    "# this portion of the rainbow does not have much red so let's see if its histogram reflects that\n",
    "hist_mask_values_red = cv2.calcHist([rainbow], channels=[2], mask=mask, histSize=[256], ranges=[0, 256])\n",
    "hist_values_red = cv2.calcHist([rainbow], channels=[2], mask=None, histSize=[256], ranges=[0, 256])\n",
    "plt.plot(hist_mask_values_red)\n",
    "plt.title('Red histogram for masked rainbow')"
   ]
  },
  {
   "cell_type": "code",
   "execution_count": null,
   "metadata": {},
   "outputs": [],
   "source": [
    "plt.plot(hist_values_red)\n",
    "plt.title('Red histogram for original rainbow')"
   ]
  }
 ],
 "metadata": {
  "kernelspec": {
   "display_name": "Python 3",
   "language": "python",
   "name": "python3"
  },
  "language_info": {
   "codemirror_mode": {
    "name": "ipython",
    "version": 3
   },
   "file_extension": ".py",
   "mimetype": "text/x-python",
   "name": "python",
   "nbconvert_exporter": "python",
   "pygments_lexer": "ipython3",
   "version": "3.6.6"
  }
 },
 "nbformat": 4,
 "nbformat_minor": 2
}
