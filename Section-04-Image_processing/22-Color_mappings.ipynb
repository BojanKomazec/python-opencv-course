{
 "cells": [
  {
   "cell_type": "markdown",
   "metadata": {},
   "source": [
    "Color codings (spaces):\n",
    "\n",
    "* RGB = Red, Green, Blue\n",
    "* HSL = Hue, Saturaton, Lighteness; HSL Cylinder model:\n",
    " * Hue goes around the cylinder and denotes a color\n",
    " * Saturation goes from center to the edge and descibes the intesitiy of the color\n",
    " * Lighteness goes from bottom (black) up (white) and describes the intensity of dark/white\n",
    "* HSV = Hue, Saturation, Value, HSV Cylinder model is similar to HSL one apart from the Value; white is in the center of the cylinder\n",
    "\n",
    "HSL and HSV more closely describe how human eye perceives a color."
   ]
  },
  {
   "cell_type": "markdown",
   "metadata": {},
   "source": [
    "`cvtColor()` - \"convert color\" is function used to change color spaces."
   ]
  },
  {
   "cell_type": "code",
   "execution_count": null,
   "metadata": {},
   "outputs": [],
   "source": [
    "import cv2\n",
    "import matplotlib.pyplot as plt\n",
    "img = cv2.imread('../data/00-puppy.jpg')\n",
    "print(type(img)) # check if image loading was successful\n",
    "plt.imshow(img)"
   ]
  },
  {
   "cell_type": "code",
   "execution_count": null,
   "metadata": {},
   "outputs": [],
   "source": [
    "img = cv2.cvtColor(img, cv2.COLOR_BGR2RGB) # OpenCV loaded image in BGR space but matplotlib requires RGB\n",
    "plt.imshow(img)"
   ]
  },
  {
   "cell_type": "code",
   "execution_count": null,
   "metadata": {},
   "outputs": [],
   "source": [
    "img_hsv = cv2.cvtColor(img, cv2.COLOR_RGB2HSV)\n",
    "plt.imshow(img_hsv)"
   ]
  },
  {
   "cell_type": "code",
   "execution_count": null,
   "metadata": {},
   "outputs": [],
   "source": [
    "img_hls = cv2.cvtColor(img, cv2.COLOR_RGB2HLS)\n",
    "plt.imshow(img_hls)"
   ]
  }
 ],
 "metadata": {
  "kernelspec": {
   "display_name": "Python 3",
   "language": "python",
   "name": "python3"
  },
  "language_info": {
   "codemirror_mode": {
    "name": "ipython",
    "version": 3
   },
   "file_extension": ".py",
   "mimetype": "text/x-python",
   "name": "python",
   "nbconvert_exporter": "python",
   "pygments_lexer": "ipython3",
   "version": "3.6.6"
  }
 },
 "nbformat": 4,
 "nbformat_minor": 2
}
