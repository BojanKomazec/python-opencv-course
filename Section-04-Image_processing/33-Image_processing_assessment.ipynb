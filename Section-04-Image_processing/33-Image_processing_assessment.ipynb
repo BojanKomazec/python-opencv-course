{
 "cells": [
  {
   "cell_type": "markdown",
   "metadata": {},
   "source": [
    "# Image Processing Assessment"
   ]
  },
  {
   "cell_type": "code",
   "execution_count": null,
   "metadata": {},
   "outputs": [],
   "source": [
    "import cv2\n",
    "import numpy as np\n",
    "import matplotlib.pyplot as plt"
   ]
  },
  {
   "cell_type": "code",
   "execution_count": null,
   "metadata": {},
   "outputs": [],
   "source": [
    "def display_img(img, cmap=None):\n",
    "    fig = plt.figure(figsize=(12,10)) # width, height in inches\n",
    "    ax = fig.add_subplot(111)\n",
    "    ax.imshow(img, cmap)"
   ]
  },
  {
   "cell_type": "markdown",
   "metadata": {},
   "source": [
    "## TASK #1: Open and dispay giraffes.jpg"
   ]
  },
  {
   "cell_type": "code",
   "execution_count": null,
   "metadata": {},
   "outputs": [],
   "source": [
    "giraffes = cv2.imread('../data/giraffes.jpg')\n",
    "print(type(giraffes)) # check if image loading was successful\n",
    "# plt.imshow(giraffes)\n",
    "show_giraffes = cv2.cvtColor(giraffes, cv2.COLOR_BGR2RGB) # OpenCV loaded image in BGR space but matplotlib requires RGB\n",
    "# plt.imshow(show_giraffes)\n",
    "# display_img(show_giraffes)\n",
    "display_img(show_giraffes)"
   ]
  },
  {
   "cell_type": "markdown",
   "metadata": {},
   "source": [
    "## TASK #2: Apply a binary threshold onto the image"
   ]
  },
  {
   "cell_type": "code",
   "execution_count": null,
   "metadata": {},
   "outputs": [],
   "source": [
    "# We can apply a binary threshold on the original (BGR) image; it will be applied for each channel\n",
    "\n",
    "# we'll choose a middlepoint value for threshold\n",
    "threshold_value = show_giraffes.max() // 2 # floor division to get the whole integer\n",
    "print(f'threshold_value = {threshold_value}')\n",
    "ret, thresh0 = cv2.threshold(show_giraffes, threshold_value, 255, cv2.THRESH_BINARY)\n",
    "display_img(thresh0)"
   ]
  },
  {
   "cell_type": "code",
   "execution_count": null,
   "metadata": {},
   "outputs": [],
   "source": [
    "# To get a binary image, we want to do thresholding on a grayscale image:\n",
    "giraffes_grayscale = cv2.imread('../data/giraffes.jpg', flags=cv2.IMREAD_GRAYSCALE)\n",
    "\n",
    "# we'll choose a middlepoint value for threshold\n",
    "threshold_value = giraffes_grayscale.max() // 2 # floor division to get the whole integer\n",
    "print(f'threshold_value = {threshold_value}')\n",
    "\n",
    "# THRESH_BINARY: every value below threshold should turn into 0 (black) and every value above the threshold should turn to maxval (white)\n",
    "ret, thresh1 = cv2.threshold(giraffes_grayscale, threshold_value, 255, cv2.THRESH_BINARY)\n",
    "print(ret)\n",
    "display_img(thresh1, cmap='gray')"
   ]
  },
  {
   "cell_type": "markdown",
   "metadata": {},
   "source": [
    "## TASK #3: Open giraffes.jpg file again and convert its colour space to HSV and display the image"
   ]
  },
  {
   "cell_type": "code",
   "execution_count": null,
   "metadata": {},
   "outputs": [],
   "source": [
    "giraffes = cv2.imread('../data/giraffes.jpg')\n",
    "print(type(giraffes)) # check if image loading was successful\n",
    "# plt.imshow(giraffes)\n",
    "show_giraffes = cv2.cvtColor(giraffes, cv2.COLOR_BGR2HSV) # OpenCV loaded image in BGR space but matplotlib requires RGB\n",
    "# plt.imshow(show_giraffes)\n",
    "# display_img(show_giraffes)\n",
    "display_img(show_giraffes)"
   ]
  },
  {
   "cell_type": "markdown",
   "metadata": {},
   "source": [
    "## TASK #4: Create a low-pass filter with a 4x4 kernel filled with values of 1/10 (0.1) and then use 2D convolution to blur the giraffe image (displayed in normal RGB)."
   ]
  },
  {
   "cell_type": "code",
   "execution_count": null,
   "metadata": {},
   "outputs": [],
   "source": [
    "# This also works:\n",
    "# giraffes = cv2.imread('../data/giraffes.jpg').astype(np.float32) / 255 # image depth: numpy.float32\n",
    "\n",
    "giraffes = cv2.imread('../data/giraffes.jpg') # image depth: numpy.uint8\n",
    "giraffes = cv2.cvtColor(giraffes, cv2.COLOR_BGR2RGB)\n",
    "type(giraffes[0,0,0])"
   ]
  },
  {
   "cell_type": "code",
   "execution_count": null,
   "metadata": {},
   "outputs": [],
   "source": [
    "kernel = np.ones((4,4), dtype=np.float32) / 10 # kernel has to have the same type as the image\n",
    "kernel"
   ]
  },
  {
   "cell_type": "code",
   "execution_count": null,
   "metadata": {},
   "outputs": [],
   "source": [
    "# -1 is destination depth (data type e.g. unsigned short, int...used to represent fundamental color intensity); -1 means that it should be the same as in the input image \n",
    "dst = cv2.filter2D(giraffes, -1, kernel)\n",
    "\n",
    "# the output will look a bit blurred\n",
    "display_img(dst)"
   ]
  },
  {
   "cell_type": "markdown",
   "metadata": {},
   "source": [
    "## TASK 5: Create a horisontal Sobel filter (sobelx) with kernel size of 5 to the grayscale version of the giraffes image and then display the resulting gradient filtered version of the image."
   ]
  },
  {
   "cell_type": "code",
   "execution_count": null,
   "metadata": {},
   "outputs": [],
   "source": [
    "# let's check that giraffes_grayscale is indeed loaded as grayscale (it should be only 2-D matrix as it has only a single colour channel - for grayscale)\n",
    "giraffes_grayscale.shape"
   ]
  },
  {
   "cell_type": "code",
   "execution_count": null,
   "metadata": {},
   "outputs": [],
   "source": [
    "display_img(giraffes_grayscale, cmap='gray')\n"
   ]
  },
  {
   "cell_type": "code",
   "execution_count": null,
   "metadata": {},
   "outputs": [],
   "source": [
    "sobelx = cv2.Sobel(giraffes_grayscale, ddepth=cv2.CV_64F, dx=1, dy=0, ksize=5) \n",
    "display_img(sobelx, cmap='gray')"
   ]
  },
  {
   "cell_type": "markdown",
   "metadata": {},
   "source": [
    "# TASK #6: Plot the color histograms for the RED, BLUE and GREEN channel of the giraffe image. Pay careful attention to the ordering of channels."
   ]
  },
  {
   "cell_type": "code",
   "execution_count": null,
   "metadata": {},
   "outputs": [],
   "source": [
    "giraffes = cv2.imread('../data/giraffes.jpg')\n",
    "show_giraffes = cv2.cvtColor(giraffes, cv2.COLOR_BGR2RGB)\n",
    "display_img(show_giraffes)"
   ]
  },
  {
   "cell_type": "code",
   "execution_count": null,
   "metadata": {},
   "outputs": [],
   "source": [
    "def show_histogram(img, title, xmax, ymax=None): \n",
    "    color = ('b', 'g', 'r')\n",
    "    for i, clr in enumerate(color):\n",
    "        histr = hist_values = cv2.calcHist([img], channels=[i], mask=None, histSize=[256], ranges=[0, 256])\n",
    "        plt.plot(histr, color = clr)\n",
    "        plt.xlim([0, xmax])\n",
    "        if ymax != None:\n",
    "            plt.ylim([0, ymax])\n",
    "    plt.title(title)\n",
    "\n",
    "show_histogram(giraffes,'HISTOGRAM FOR giraffes.jpg', 256)"
   ]
  }
 ],
 "metadata": {
  "kernelspec": {
   "display_name": "Python 3",
   "language": "python",
   "name": "python3"
  },
  "language_info": {
   "codemirror_mode": {
    "name": "ipython",
    "version": 3
   },
   "file_extension": ".py",
   "mimetype": "text/x-python",
   "name": "python",
   "nbconvert_exporter": "python",
   "pygments_lexer": "ipython3",
   "version": "3.6.6"
  }
 },
 "nbformat": 4,
 "nbformat_minor": 2
}
