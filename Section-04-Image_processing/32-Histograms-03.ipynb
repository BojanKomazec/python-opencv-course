{
 "cells": [
  {
   "cell_type": "code",
   "execution_count": null,
   "metadata": {},
   "outputs": [],
   "source": [
    "# Histograms (3/3)\n",
    "\n"
   ]
  },
  {
   "cell_type": "code",
   "execution_count": null,
   "metadata": {},
   "outputs": [],
   "source": [
    "import cv2\n",
    "import numpy as np\n",
    "import matplotlib.pyplot as plt"
   ]
  },
  {
   "cell_type": "code",
   "execution_count": null,
   "metadata": {},
   "outputs": [],
   "source": [
    "gorilla = cv2.imread('../data/gorilla.jpg', 0)\n",
    "# print(type(rainbow)) # check if image loading was successful\n",
    "# plt.imshow(rainbow)\n",
    "# show_gorilla = cv2.cvtColor(gorilla, cv2.COLOR_BGR2RGB) # OpenCV loaded image in BGR space but matplotlib requires RGB\n",
    "plt.imshow(gorilla)\n",
    "# colors seem to be equally distributed across values; no significant peaks are expected in histogram"
   ]
  },
  {
   "cell_type": "code",
   "execution_count": null,
   "metadata": {},
   "outputs": [],
   "source": [
    "def display_img(img, cmap=None):\n",
    "    fig = plt.figure(figsize=(10,8))\n",
    "    ax = fig.add_subplot(111)\n",
    "    ax.imshow(img, cmap)"
   ]
  },
  {
   "cell_type": "code",
   "execution_count": null,
   "metadata": {},
   "outputs": [],
   "source": [
    "display_img(gorilla, cmap='gray')"
   ]
  },
  {
   "cell_type": "code",
   "execution_count": null,
   "metadata": {},
   "outputs": [],
   "source": [
    "gorilla.shape"
   ]
  },
  {
   "cell_type": "code",
   "execution_count": null,
   "metadata": {},
   "outputs": [],
   "source": [
    "# let's calculate the histogram and visualize it\n",
    "hist_values = cv2.calcHist([gorilla], channels=[0], mask=None, histSize=[256], ranges=[0, 256])\n",
    "plt.plot(hist_values)"
   ]
  },
  {
   "cell_type": "code",
   "execution_count": null,
   "metadata": {},
   "outputs": [],
   "source": [
    "eq_gorilla = cv2.equalizeHist(gorilla)\n",
    "display_img(eq_gorilla, cmap='gray')\n",
    "# equalizing the histogram increased the contrast on the image"
   ]
  },
  {
   "cell_type": "code",
   "execution_count": null,
   "metadata": {},
   "outputs": [],
   "source": [
    "hist_values = cv2.calcHist([eq_gorilla], channels=[0], mask=None, histSize=[256], ranges=[0, 256])\n",
    "plt.plot(hist_values)"
   ]
  },
  {
   "cell_type": "code",
   "execution_count": null,
   "metadata": {},
   "outputs": [],
   "source": [
    "# This can also be done for colour image\n",
    "colour_gorilla = cv2.imread('../data/gorilla.jpg')\n",
    "# print(type(colour_gorilla)) # check if image loading was successful\n",
    "# plt.imshow(colour_gorilla)\n",
    "show_colour_gorilla = cv2.cvtColor(colour_gorilla, cv2.COLOR_BGR2RGB) # OpenCV loaded image in BGR space but matplotlib requires RGB\n",
    "plt.imshow(show_colour_gorilla)"
   ]
  },
  {
   "cell_type": "code",
   "execution_count": null,
   "metadata": {},
   "outputs": [],
   "source": [
    "# To perform histogram equalization of the colour image we first need to translate it to HSV (Hue - Saturation - Value) color space.\n",
    "hsv = cv2.cvtColor(colour_gorilla, cv2.COLOR_BGR2HSV)\n",
    "\n",
    "# channel 0 is hue, 1 is saturation and 2 is value; we need value; let's check its min and max values first\n",
    "print(f'hsv[:,:,2].min() = {hsv[:,:,2].min()}')\n",
    "print(f'hsv[:,:,2].max() = {hsv[:,:,2].max()}')"
   ]
  },
  {
   "cell_type": "code",
   "execution_count": null,
   "metadata": {},
   "outputs": [],
   "source": [
    "# histogram equalization is performed on the value dimension (value channel)\n",
    "hsv[:,:,2] = cv2.equalizeHist(hsv[:,:,2])\n",
    "\n",
    "# converting to RGB so we can display it\n",
    "equalized_colour_gorilla = cv2.cvtColor(hsv, cv2.COLOR_HSV2RGB)\n",
    "display_img(equalized_colour_gorilla)"
   ]
  }
 ],
 "metadata": {
  "kernelspec": {
   "display_name": "Python 3",
   "language": "python",
   "name": "python3"
  },
  "language_info": {
   "codemirror_mode": {
    "name": "ipython",
    "version": 3
   },
   "file_extension": ".py",
   "mimetype": "text/x-python",
   "name": "python",
   "nbconvert_exporter": "python",
   "pygments_lexer": "ipython3",
   "version": "3.6.6"
  }
 },
 "nbformat": 4,
 "nbformat_minor": 2
}
