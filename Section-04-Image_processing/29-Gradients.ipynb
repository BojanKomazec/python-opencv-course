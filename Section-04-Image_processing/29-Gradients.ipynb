{
 "cells": [
  {
   "cell_type": "markdown",
   "metadata": {},
   "source": [
    "# Gradients\n",
    "\n",
    "Understanding gradients helps edge detection which is the foundation for object detection, object tracking and image classification.\n",
    "\n",
    "An image gradient is a directional change in the intenisity or color in an image.\n",
    "\n",
    "[Image gradient](https://en.wikipedia.org/wiki/Image_gradient)\n",
    "\n",
    "Sobel-Feldman (\"Sobel\") Operators.\n",
    "\n",
    "[Sobel operator](https://www.udemy.com/course/python-for-computer-vision-with-opencv-and-deep-learning/learn/lecture/12257666#overview)\n",
    "\n",
    "Gradients can be calculated in a specific direction e.g. x-directional (where we see vertical edges) and  y-directional (where we see horizontal edges).\n",
    "\n",
    "Normalized Gradient Magnitude combines both outputs in an image which contains both vertical and horizontal edges.\n",
    "\n",
    "Sobel operator uses two 3x3 kernels which are convolved with the original image to calculate approximations of the derivatives (rates  of change), one for horizontal changes and one for vertical.\n",
    "\n",
    "+1 0 -1</br>\n",
    "+2 0 -2 is kernel for detecting vertical edges</br>\n",
    "+1 0 -1</br>\n",
    "\n",
    "+1 +2 +1</br>\n",
    "0  0  0 is kernel for detecting horizontal edges</br>\n",
    "-1 -2 -1</br>"
   ]
  },
  {
   "cell_type": "code",
   "execution_count": null,
   "metadata": {},
   "outputs": [],
   "source": [
    "import cv2\n",
    "import numpy as np\n",
    "import matplotlib.pyplot as plt"
   ]
  },
  {
   "cell_type": "code",
   "execution_count": null,
   "metadata": {},
   "outputs": [],
   "source": [
    "def display_img(img):\n",
    "    fig = plt.figure(figsize=(12,10))\n",
    "    ax = fig.add_subplot(111)\n",
    "    ax.imshow(img, cmap='gray')"
   ]
  },
  {
   "cell_type": "code",
   "execution_count": null,
   "metadata": {},
   "outputs": [],
   "source": [
    "img = cv2.imread('../data/sudoku.jpg', 0) # 0 to be read in grayscale"
   ]
  },
  {
   "cell_type": "code",
   "execution_count": null,
   "metadata": {},
   "outputs": [],
   "source": [
    "display_img(img)"
   ]
  },
  {
   "cell_type": "markdown",
   "metadata": {},
   "source": [
    "### Calculating x gradient Sobel\n",
    "\n",
    "This is gradient along x-axis (horizontal axis) so the output will contain vertical lines - veritcal edges.\n",
    "\n",
    "[What is 'Depth' in Image Processing](https://stackoverflow.com/questions/32602018/what-is-depth-in-image-processing)\n",
    "    Depth is the \"precision\" of each pixel. Typically it can be 8/24/32 bit for displaying, but any precision for computations.\n",
    "    Instead of precision you can also call it the data type of the pixel."
   ]
  },
  {
   "cell_type": "code",
   "execution_count": null,
   "metadata": {},
   "outputs": [],
   "source": [
    "# we'll use the higher precision possible for desired depth, 64-bit precision floating point\n",
    "# ksize = kernel size, should be an odd number so kernel has that central pixel \n",
    "sobelx = cv2.Sobel(img, ddepth=cv2.CV_64F, dx=1, dy=0, ksize=5) \n",
    "display_img(sobelx)"
   ]
  },
  {
   "cell_type": "markdown",
   "metadata": {},
   "source": [
    "### Calculating y gradient Sobel\n",
    "\n",
    "This is gradient along y-axis (vertical axis) so the output will contain horizontal lines - horozontal edges."
   ]
  },
  {
   "cell_type": "code",
   "execution_count": null,
   "metadata": {},
   "outputs": [],
   "source": [
    "sobely = cv2.Sobel(img, ddepth=cv2.CV_64F, dx=0, dy=1, ksize=5) \n",
    "display_img(sobely)"
   ]
  },
  {
   "cell_type": "markdown",
   "metadata": {},
   "source": [
    "## Laplacian Derivatives\n",
    "\n",
    "Sobel kernels are detecting horizontal and vertical edges. But what about edges which are going in other directions?\n",
    "\n",
    "[Laplace operator](https://en.wikipedia.org/wiki/Laplace_operator)\n",
    "[Laplacian Operator](https://www.tutorialspoint.com/dip/laplacian_operator.htm)\n",
    "[Laplacian Edge Detection](https://www.owlnet.rice.edu/~elec539/Projects97/morphjrks/laplacian.html)\n",
    "\n",
    "### Laplacian kernels\n",
    "\n",
    "Positive Laplacian Operator is used to find outward edges in an image.\n",
    "\n",
    "0  1  0<br/>\n",
    "1 -4  1<br/>\n",
    "0  1  0<br/>\n",
    "\n",
    "Outward edge = the gradient of an edge is pointing outwards (out of image).\n",
    "\n",
    "\n",
    "Negative Laplacian operator is used to find inward edges in an image.\n",
    "\n",
    " 0 -1  0<br/>\n",
    "-1  4 -1<br/>\n",
    " 0 -1  0<br/>\n",
    "\n",
    "Inward edge = the gradient of an edge is pointing inwards."
   ]
  },
  {
   "cell_type": "code",
   "execution_count": null,
   "metadata": {},
   "outputs": [],
   "source": [
    "laplacian = cv2.Laplacian(img, ddepth=cv2.CV_64F)\n",
    "display_img(laplacian)"
   ]
  },
  {
   "cell_type": "markdown",
   "metadata": {},
   "source": [
    "## Blending Images"
   ]
  },
  {
   "cell_type": "code",
   "execution_count": null,
   "metadata": {},
   "outputs": [],
   "source": [
    "blended = cv2.addWeighted(src1=sobelx, alpha=0.5, src2=sobely, beta=0.5, gamma=0)\n",
    "display_img(blended)"
   ]
  },
  {
   "cell_type": "markdown",
   "metadata": {},
   "source": [
    "## Thresholding"
   ]
  },
  {
   "cell_type": "code",
   "execution_count": null,
   "metadata": {},
   "outputs": [],
   "source": [
    "ret, th1 = cv2.threshold(img, 100, 255, cv2.THRESH_BINARY)\n",
    "display_img(th1)"
   ]
  },
  {
   "cell_type": "markdown",
   "metadata": {},
   "source": [
    "## Morphological Gradient"
   ]
  },
  {
   "cell_type": "code",
   "execution_count": null,
   "metadata": {},
   "outputs": [],
   "source": [
    "kernel = np.ones((4, 4), np.uint8)\n",
    "gradient = cv2.morphologyEx(blended, cv2.MORPH_GRADIENT, kernel)\n",
    "display_img(gradient)"
   ]
  },
  {
   "cell_type": "markdown",
   "metadata": {},
   "source": [
    "# Exercises\n",
    "\n",
    "## x & y gradient Sobel on handwritten digit"
   ]
  },
  {
   "cell_type": "code",
   "execution_count": null,
   "metadata": {},
   "outputs": [],
   "source": [
    "img_number_4 = cv2.imread('../data/number-4.png', 0)\n",
    "display_img(img_number_4)"
   ]
  },
  {
   "cell_type": "code",
   "execution_count": null,
   "metadata": {},
   "outputs": [],
   "source": [
    "sobelx_number_4 = cv2.Sobel(img_number_4, ddepth=cv2.CV_64F, dx=1, dy=0, ksize=5) \n",
    "display_img(sobelx_number_4)"
   ]
  },
  {
   "cell_type": "code",
   "execution_count": null,
   "metadata": {},
   "outputs": [],
   "source": [
    "sobely_number_4 = cv2.Sobel(img_number_4, ddepth=cv2.CV_64F, dx=0, dy=1, ksize=5) \n",
    "display_img(sobely_number_4)"
   ]
  }
 ],
 "metadata": {
  "kernelspec": {
   "display_name": "Python 3",
   "language": "python",
   "name": "python3"
  },
  "language_info": {
   "codemirror_mode": {
    "name": "ipython",
    "version": 3
   },
   "file_extension": ".py",
   "mimetype": "text/x-python",
   "name": "python",
   "nbconvert_exporter": "python",
   "pygments_lexer": "ipython3",
   "version": "3.6.12"
  }
 },
 "nbformat": 4,
 "nbformat_minor": 4
}
