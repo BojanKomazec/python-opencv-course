{
 "cells": [
  {
   "cell_type": "markdown",
   "metadata": {},
   "source": [
    "# Morpholigical Operators\n",
    "\n",
    "\n",
    "* sets of kernels that can modify image e.g. blurring, smoothing, noise reduction...\n",
    "* some operators are very good at reducing black points on a white background (and vice versa)\n",
    "* some operators are good at erosion and dilation\n",
    "\n",
    "From [Types of Morphological Operations](https://www.mathworks.com/help/images/morphological-dilation-and-erosion.html#:~:text=Dilation%20adds%20pixels%20to%20the,used%20to%20process%20the%20image._):\n",
    "\n",
    "**Morphology** is a broad set of image processing operations that process images based on shapes.\n",
    "Morphological operations apply a *structuring element* to an input image, creating an output image of the same size. \n",
    "In a morphological operation, the value of each pixel in the output image is based on a comparison of the corresponding pixel in the input image with its neighbors.\n",
    "*Dilation* adds pixels to the boundaries of objects in an image\n",
    "*Erosion* removes pixels on object boundaries\n",
    "The number of pixels added or removed from the objects in an image depends on the size and shape of the structuring element used to process the image. In the morphological dilation and erosion operations, the state of any given pixel in the output image is determined by applying a rule to the corresponding pixel and its neighbors in the input image.\n",
    "\n",
    "* *structuring element* defines the neighborhood of the pixel of interest (is it only one pixel left and one right or all 8 pixels around); it is like a kernel (a matrix).\n",
    "\n",
    "## Dilation\n",
    "\n",
    "The value of the output pixel is the maximum value of all pixels in the neighborhood. \n",
    "In a binary image, a pixel is set to 1 if any of the neighboring pixels have the value 1.\n",
    "Morphological dilation makes objects more visible and fills in small holes in objects.\n",
    "\n",
    "## Erosion\n",
    "\n",
    "The value of the output pixel is the minimum value of all pixels in the neighborhood. \n",
    "In a binary image, a pixel is set to 0 if any of the neighboring pixels have the value 0.\n",
    "Morphological erosion removes islands and small objects so that only substantive objects remain.\n",
    "\n"
   ]
  },
  {
   "cell_type": "code",
   "execution_count": null,
   "metadata": {},
   "outputs": [],
   "source": []
  }
 ],
 "metadata": {
  "kernelspec": {
   "display_name": "Python 3",
   "language": "python",
   "name": "python3"
  },
  "language_info": {
   "codemirror_mode": {
    "name": "ipython",
    "version": 3
   },
   "file_extension": ".py",
   "mimetype": "text/x-python",
   "name": "python",
   "nbconvert_exporter": "python",
   "pygments_lexer": "ipython3",
   "version": "3.6.6"
  }
 },
 "nbformat": 4,
 "nbformat_minor": 2
}
