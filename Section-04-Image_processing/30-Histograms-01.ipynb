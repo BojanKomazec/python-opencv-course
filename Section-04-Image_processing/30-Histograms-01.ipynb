{
 "cells": [
  {
   "cell_type": "markdown",
   "metadata": {},
   "source": [
    "# Histograms (1/3)\n",
    "\n",
    "Histogram is a visual interpreatation of the distribution of a continuous feature. It can also display a general trend of the frequency (kernel density estimation plot - a frequency distribyution graph).\n",
    "\n",
    "## Image Histograms\n",
    "\n",
    "For images, we can display the frequency of values for colors. Each of the three RGB channels has values between 0 and 255. We can plot these as 3 histograms on top of each other to see how much of each channel there is.\n",
    "\n",
    "`0` value denotes minimal intensity (black colour) so if we have peaks near `0` that means we have lots of pixels of black color. \n",
    "\n",
    "It is possible to create image histograms with matplotlib and OpenCV.\n"
   ]
  },
  {
   "cell_type": "code",
   "execution_count": null,
   "metadata": {},
   "outputs": [],
   "source": [
    "import cv2\n",
    "import numpy as np\n",
    "import matplotlib.pyplot as plt"
   ]
  },
  {
   "cell_type": "code",
   "execution_count": null,
   "metadata": {},
   "outputs": [],
   "source": [
    "dark_horse = cv2.imread('../data/horse.jpg') # Original OpenCV channeling is BGR\n",
    "# print(type(dark_horse)) # check if image loading was successful\n",
    "# plt.imshow(dark_horse)\n",
    "show_horse = cv2.cvtColor(dark_horse, cv2.COLOR_BGR2RGB) # OpenCV loaded image in BGR space but matplotlib requires RGB\n",
    "plt.imshow(show_horse)\n",
    "# we can see there is lots of black pixels so we can expect peaks around zeros"
   ]
  },
  {
   "cell_type": "code",
   "execution_count": null,
   "metadata": {},
   "outputs": [],
   "source": [
    "rainbow = cv2.imread('../data/rainbow.jpg')\n",
    "# print(type(rainbow)) # check if image loading was successful\n",
    "# plt.imshow(rainbow)\n",
    "show_rainbow = cv2.cvtColor(rainbow, cv2.COLOR_BGR2RGB) # OpenCV loaded image in BGR space but matplotlib requires RGB\n",
    "plt.imshow(show_rainbow)\n",
    "# colors seem to be equally distributed across values; no significant peaks are expected in histogram"
   ]
  },
  {
   "cell_type": "code",
   "execution_count": null,
   "metadata": {},
   "outputs": [],
   "source": [
    "bricks = cv2.imread('../data/bricks.jpg')\n",
    "# print(type(bricks)) # check if image loading was successful\n",
    "# plt.imshow(bricks)\n",
    "show_bricks = cv2.cvtColor(bricks, cv2.COLOR_BGR2RGB) # OpenCV loaded image in BGR space but matplotlib requires RGB\n",
    "plt.imshow(show_bricks)\n",
    "# we can expect peaks for blue color"
   ]
  },
  {
   "cell_type": "code",
   "execution_count": null,
   "metadata": {},
   "outputs": [],
   "source": [
    "# channels: OpenCV channeling is BGR so Blue has index 0 and we want to show only histogram for blue colour here\n",
    "# mask - optional parameter; used if we want to apply mask on the image so histograms is calculated only for the part of the image\n",
    "# histSize and ranges -the upper limit is not included\n",
    "hist_values = cv2.calcHist([show_bricks], channels=[0], mask=None, histSize=[256], ranges=[0, 256])\n",
    "hist_values.shape"
   ]
  },
  {
   "cell_type": "code",
   "execution_count": null,
   "metadata": {},
   "outputs": [],
   "source": [
    "plt.plot(hist_values)"
   ]
  },
  {
   "cell_type": "code",
   "execution_count": null,
   "metadata": {},
   "outputs": [],
   "source": [
    "plt.imshow(show_horse)"
   ]
  },
  {
   "cell_type": "code",
   "execution_count": null,
   "metadata": {},
   "outputs": [],
   "source": [
    "hist_values = cv2.calcHist([show_horse], channels=[0], mask=None, histSize=[256], ranges=[0, 256])\n",
    "plt.plot(hist_values)"
   ]
  },
  {
   "cell_type": "markdown",
   "metadata": {},
   "source": [
    "## How to plot all 3 color histograms all at once"
   ]
  },
  {
   "cell_type": "code",
   "execution_count": null,
   "metadata": {},
   "outputs": [],
   "source": [
    "def show_histogram(img, title, xmax, ymax=None): \n",
    "    color = ('b', 'g', 'r')\n",
    "    for i, clr in enumerate(color):\n",
    "        histr = hist_values = cv2.calcHist([img], channels=[i], mask=None, histSize=[256], ranges=[0, 256])\n",
    "        plt.plot(histr, color = clr)\n",
    "        plt.xlim([0, xmax])\n",
    "        if ymax != None:\n",
    "            plt.ylim([0, ymax])\n",
    "    plt.title(title)\n",
    "\n",
    "show_histogram(bricks,'HISTOGRAM FOR BLUE BRICKS', 256)\n",
    "# Histogram shows a very little contribution by red and more contribution by green and blue"
   ]
  },
  {
   "cell_type": "code",
   "execution_count": null,
   "metadata": {},
   "outputs": [],
   "source": [
    "# Let's do the same thing for horse:\n",
    "show_histogram(dark_horse,'HISTOGRAM FOR DARK HORSE', 256)"
   ]
  },
  {
   "cell_type": "code",
   "execution_count": null,
   "metadata": {},
   "outputs": [],
   "source": [
    "show_histogram(dark_horse,'HISTOGRAM FOR DARK HORSE', 15, 500000)"
   ]
  },
  {
   "cell_type": "code",
   "execution_count": null,
   "metadata": {},
   "outputs": [],
   "source": [
    "# total number of pixels in this image\n",
    "dark_horse.shape[0] * dark_horse.shape[1] * dark_horse.shape[2]\n",
    "# most of them are black - close to (0, 0, 0)"
   ]
  }
 ],
 "metadata": {
  "kernelspec": {
   "display_name": "Python 3",
   "language": "python",
   "name": "python3"
  },
  "language_info": {
   "codemirror_mode": {
    "name": "ipython",
    "version": 3
   },
   "file_extension": ".py",
   "mimetype": "text/x-python",
   "name": "python",
   "nbconvert_exporter": "python",
   "pygments_lexer": "ipython3",
   "version": "3.6.6"
  }
 },
 "nbformat": 4,
 "nbformat_minor": 2
}
