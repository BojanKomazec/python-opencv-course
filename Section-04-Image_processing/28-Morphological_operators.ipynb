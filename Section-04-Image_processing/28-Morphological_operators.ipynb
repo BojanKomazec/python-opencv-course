{
 "cells": [
  {
   "cell_type": "markdown",
   "metadata": {},
   "source": [
    "# Morpholigical Operators\n",
    "\n",
    "\n",
    "* specialized kernels that can achieve some effect on the image e.g. blurring, smoothing, noise reduction...\n",
    "* some operators are very good at reducing black points on a white background (and vice versa)\n",
    "* some operators are good at erosion and dilation\n",
    "\n",
    "From [Types of Morphological Operations](https://www.mathworks.com/help/images/morphological-dilation-and-erosion.html#:~:text=Dilation%20adds%20pixels%20to%20the,used%20to%20process%20the%20image._):\n",
    "\n",
    "**Morphology** is a broad set of image processing operations that process images based on shapes.\n",
    "Morphological operations apply a *structuring element* to an input image, creating an output image of the same size. \n",
    "In a morphological operation, the value of each pixel in the output image is based on a comparison of the corresponding pixel in the input image with its neighbors. **Dilation** adds pixels to the boundaries of objects in an image. **Erosion** removes (erodes) pixels on object boundaries.\n",
    "The number of pixels added or removed from the objects in an image depends on the size and shape of the structuring element used to process the image. In the morphological dilation and erosion operations, the state of any given pixel in the output image is determined by applying a rule to the corresponding pixel and its neighbors in the input image.\n",
    "\n",
    "* *structuring element* defines the neighborhood of the pixel of interest (is it only one pixel left and one right or all 8 pixels around); it is like a kernel (a matrix).\n",
    "\n",
    "### Dilation\n",
    "\n",
    "The value of the output pixel is the maximum value of all pixels in the neighborhood. \n",
    "In a binary image, a pixel is set to 1 if any of the neighboring pixels have the value 1.\n",
    "Morphological dilation makes objects more visible and fills in small holes in objects.\n",
    "\n",
    "### Erosion\n",
    "\n",
    "The value of the output pixel is the minimum value of all pixels in the neighborhood. \n",
    "In a binary image, a pixel is set to 0 if any of the neighboring pixels have the value 0.\n",
    "Morphological erosion removes islands and small objects so that only substantive objects remain.\n",
    "\n",
    "### Resources:\n",
    "\n",
    "[Mathematical morphology](https://en.wikipedia.org/wiki/Mathematical_morphology)\n",
    "\n",
    "[Morphology (©2003 R. Fisher, S. Perkins, A. Walker and E. Wolfart.)](https://homepages.inf.ed.ac.uk/rbf/HIPR2/morops.htm)\n",
    "\n",
    "[Eroding and Dilating (OpenCV Documentation)](https://docs.opencv.org/3.4/db/df6/tutorial_erosion_dilatation.html)"
   ]
  },
  {
   "cell_type": "code",
   "execution_count": null,
   "metadata": {},
   "outputs": [],
   "source": [
    "import cv2\n",
    "import numpy as np\n",
    "import matplotlib.pyplot as plt"
   ]
  },
  {
   "cell_type": "code",
   "execution_count": null,
   "metadata": {},
   "outputs": [],
   "source": [
    "def load_img():\n",
    "    blank_img = np.zeros((600, 600))\n",
    "    font = cv2.FONT_HERSHEY_SIMPLEX\n",
    "    cv2.putText(blank_img, text='ABCDE', org=(50, 300), fontFace=font, fontScale=5, color=(255, 255, 255), thickness=25, lineType=cv2.LINE_AA)\n",
    "    return blank_img"
   ]
  },
  {
   "cell_type": "code",
   "execution_count": null,
   "metadata": {},
   "outputs": [],
   "source": [
    "def display_img(img):\n",
    "    fig = plt.figure(figsize=(12,10))\n",
    "    ax = fig.add_subplot(111)\n",
    "    ax.imshow(img, cmap='gray')"
   ]
  },
  {
   "cell_type": "code",
   "execution_count": null,
   "metadata": {},
   "outputs": [],
   "source": [
    "img = load_img()\n",
    "display_img(img)"
   ]
  },
  {
   "cell_type": "markdown",
   "metadata": {},
   "source": [
    "## Erosion\n",
    "\n",
    "Erosion removes (erodes) pixels on object boundaries. It places a kernel centre over the current pixel, looks for the minimum value in all neighbours and sets that pixel to that minimum value.\n",
    "\n",
    "[cv2.erode()](https://docs.opencv.org/3.4/d4/d86/group__imgproc__filter.html#gaeb1e0c1033e3f6b891a25d0511362aeb)\n",
    "\n",
    "dst = cv.erode(src, kernel[, dst[, anchor[, iterations[, borderType[, borderValue]]]]])\n"
   ]
  },
  {
   "cell_type": "code",
   "execution_count": null,
   "metadata": {},
   "outputs": [],
   "source": [
    "kernel = np.ones((5, 5), dtype=np.uint8)\n",
    "kernel"
   ]
  },
  {
   "cell_type": "code",
   "execution_count": null,
   "metadata": {},
   "outputs": [],
   "source": [
    "iterations = 5 # try changing it to e.g. 1..3..5\n",
    "result = cv2.erode(img, kernel, iterations=iterations)"
   ]
  },
  {
   "cell_type": "code",
   "execution_count": null,
   "metadata": {},
   "outputs": [],
   "source": [
    "display_img(result)"
   ]
  },
  {
   "cell_type": "markdown",
   "metadata": {},
   "source": [
    "## Opening \n",
    "\n",
    "Opening is erosion followed by dilation. It can remove a *background* noise.\n",
    "\n",
    "From [Opening](https://homepages.inf.ed.ac.uk/rbf/HIPR2/open.htm):\n",
    "* Opening is somewhat like erosion in that it tends to remove some of the foreground (bright) pixels from the edges of regions of foreground pixels. \n",
    "* It is less destructive than erosion in general.\n",
    "* The exact operation is determined by a structuring element. \n",
    "* The effect of the operator is to preserve foreground regions that have a similar shape to this structuring element, or that can completely contain the structuring element, while eliminating all other regions of foreground pixels.\n",
    "\n",
    "From [Opening (morphology)](https://en.wikipedia.org/wiki/Opening_(morphology)):\n",
    "* In mathematical morphology, opening is the dilation of the erosion of a set A by a structuring element B. (In mathematical morphology, a structuring element is a shape, used to probe or interact with a given image, with the purpose of drawing conclusions on how this shape fits or misses the shapes in the image. It is typically used in morphological operations, such as dilation, erosion, opening, and closing, as well as the hit-or-miss transform.)\n",
    "* Together with closing, the opening serves in computer vision and image processing as a basic workhorse of morphological noise removal.\n",
    "* Opening removes small objects from the foreground (usually taken as the bright pixels) of an image, placing them in the background, while closing removes small holes in the foreground, changing small islands of background into foreground. \n",
    "* These techniques can also be used to find specific shapes in an image. Opening can be used to find things into which a specific structuring element can fit (edges, corners, ...).\n",
    "* One can think of B sweeping around the inside of the boundary of A, so that it does not extend beyond the boundary, and shaping the A boundary around the boundary of the element.\n",
    "\n",
    "[Morphology](http://fourier.eng.hmc.edu/e161/lectures/morphology/node1.html)"
   ]
  },
  {
   "cell_type": "code",
   "execution_count": null,
   "metadata": {},
   "outputs": [],
   "source": [
    "img = load_img()"
   ]
  },
  {
   "cell_type": "markdown",
   "metadata": {},
   "source": [
    "### Creating a white noise and adding it to the image"
   ]
  },
  {
   "cell_type": "code",
   "execution_count": null,
   "metadata": {},
   "outputs": [],
   "source": [
    "white_noise = np.random.randint(low=0, high=2, size=(600, 600))  # low value is included, high is not so we'll get values of 0 and 1"
   ]
  },
  {
   "cell_type": "code",
   "execution_count": null,
   "metadata": {},
   "outputs": [],
   "source": [
    "display_img(white_noise)"
   ]
  },
  {
   "cell_type": "code",
   "execution_count": null,
   "metadata": {},
   "outputs": [],
   "source": [
    "# Let's add this white noise to our original image.\n",
    "# Before that we need to make sure that white_noise levels are scaled to the max span of values in the original image. Zero will remain zero but 1 has to become a max value in the original image:\n",
    "print(f'img.max() = {img.max()}')"
   ]
  },
  {
   "cell_type": "code",
   "execution_count": null,
   "metadata": {},
   "outputs": [],
   "source": [
    "white_noise = white_noise * img.max()\n",
    "display_img(white_noise)"
   ]
  },
  {
   "cell_type": "code",
   "execution_count": null,
   "metadata": {},
   "outputs": [],
   "source": [
    "noise_img = white_noise + img\n",
    "display_img(noise_img)"
   ]
  },
  {
   "cell_type": "markdown",
   "metadata": {},
   "source": [
    "### Removing the noise via opening\n",
    "\n",
    "So, let's now get rid of this noise"
   ]
  },
  {
   "cell_type": "code",
   "execution_count": null,
   "metadata": {},
   "outputs": [],
   "source": [
    "opening = cv2.morphologyEx(noise_img, cv2.MORPH_OPEN, kernel)\n",
    "display_img(opening)"
   ]
  },
  {
   "cell_type": "code",
   "execution_count": null,
   "metadata": {},
   "outputs": [],
   "source": [
    "# it is without noise and almost as good as the original image\n",
    "display_img(img)"
   ]
  },
  {
   "cell_type": "markdown",
   "metadata": {},
   "source": [
    "## Closing\n",
    "\n",
    "If we have white shape on black background and there are some patches of black inside white shape, closing will \"close\" all these \"gaps\" (black areas) by filling them white.\n",
    "\n",
    "From [Closing](https://homepages.inf.ed.ac.uk/rbf/HIPR2/close.htm):\n",
    "\n",
    "* Closing is similar in some ways to dilation in that it tends to enlarge the boundaries of foreground (bright) regions in an image (and shrink background color holes in such regions), but it is less destructive of the original boundary shape. \n",
    "* As with other morphological operators, the exact operation is determined by a structuring element. \n",
    "* The effect of the operator is to preserve background regions that have a similar shape to this structuring element, or that can completely contain the structuring element, while eliminating all other regions of background pixels.\n",
    "\n",
    "* Closing is opening performed in reverse. It is defined simply as a dilation followed by an erosion using the same structuring element for both operations. \n",
    "* Closing is good at removing a *black noise* (black pixels within area meant to be all white)"
   ]
  },
  {
   "cell_type": "markdown",
   "metadata": {},
   "source": [
    "### Creating a black noise and adding it to the image"
   ]
  },
  {
   "cell_type": "code",
   "execution_count": null,
   "metadata": {},
   "outputs": [],
   "source": [
    "img = load_img()"
   ]
  },
  {
   "cell_type": "code",
   "execution_count": null,
   "metadata": {},
   "outputs": [],
   "source": [
    "black_noise = np.random.randint(low=0, high=2, size=(600, 600))\n",
    "black_noise = black_noise * (-img.max())\n",
    "display_img(black_noise)"
   ]
  },
  {
   "cell_type": "code",
   "execution_count": null,
   "metadata": {},
   "outputs": [],
   "source": [
    "black_noise_img = black_noise + img\n",
    "display_img(black_noise_img)\n",
    "black_noise_img"
   ]
  },
  {
   "cell_type": "code",
   "execution_count": null,
   "metadata": {},
   "outputs": [],
   "source": [
    "# Black noise means black pixels within the area that is meant all to be white. \n",
    "# In our case we need to have noise (black pixels) only within the (white) letters. \n",
    "# Black background should remain the same (all black). \n",
    "# set to 0 each element of the matrix which is equal to -255\n",
    "black_noise_img[black_noise_img == -255] = 0\n",
    "black_noise_img.min()"
   ]
  },
  {
   "cell_type": "code",
   "execution_count": null,
   "metadata": {},
   "outputs": [],
   "source": [
    "display_img(black_noise_img)"
   ]
  },
  {
   "cell_type": "markdown",
   "metadata": {},
   "source": [
    "### Removing black noise via closing"
   ]
  },
  {
   "cell_type": "code",
   "execution_count": null,
   "metadata": {},
   "outputs": [],
   "source": [
    "closing = cv2.morphologyEx(black_noise_img, cv2.MORPH_CLOSE, kernel)\n",
    "display_img(closing)"
   ]
  },
  {
   "cell_type": "markdown",
   "metadata": {},
   "source": [
    "## Morphological Gradient\n",
    "\n",
    "It takes a difference between dilation and erosion of an image. Dilation expands white object on black background and erosion shrinks it. Their difference will actually show the edges of the object so this is a very simple way of edge detection.\n",
    "\n",
    "From [Morphological gradient](https://en.wikipedia.org/wiki/Morphological_gradient):\n",
    "* A difference between the dilation and the erosion of a given image. \n",
    "* It is an image where each pixel value (typically non-negative) indicates the contrast intensity in the close neighborhood of that pixel.\n",
    "* It is useful for edge detection and segmentation applications."
   ]
  },
  {
   "cell_type": "code",
   "execution_count": null,
   "metadata": {},
   "outputs": [],
   "source": [
    "img = load_img()"
   ]
  },
  {
   "cell_type": "code",
   "execution_count": null,
   "metadata": {},
   "outputs": [],
   "source": [
    "display_img(img)"
   ]
  },
  {
   "cell_type": "code",
   "execution_count": null,
   "metadata": {},
   "outputs": [],
   "source": [
    "gradient = cv2.morphologyEx(img, cv2.MORPH_GRADIENT, kernel)\n",
    "display_img(gradient)"
   ]
  }
 ],
 "metadata": {
  "kernelspec": {
   "display_name": "Python 3",
   "language": "python",
   "name": "python3"
  },
  "language_info": {
   "codemirror_mode": {
    "name": "ipython",
    "version": 3
   },
   "file_extension": ".py",
   "mimetype": "text/x-python",
   "name": "python",
   "nbconvert_exporter": "python",
   "pygments_lexer": "ipython3",
   "version": "3.6.12"
  }
 },
 "nbformat": 4,
 "nbformat_minor": 4
}
