{
 "cells": [
  {
   "cell_type": "markdown",
   "metadata": {},
   "source": [
    "# string.lower()"
   ]
  },
  {
   "cell_type": "code",
   "execution_count": 10,
   "metadata": {},
   "outputs": [
    {
     "name": "stdout",
     "output_type": "stream",
     "text": [
      "this is a test\n"
     ]
    }
   ],
   "source": [
    "print(\"This is a TEST\".lower())"
   ]
  },
  {
   "cell_type": "markdown",
   "metadata": {},
   "source": [
    "# [string.split()](https://www.w3schools.com/python/ref_string_split.asp)"
   ]
  },
  {
   "cell_type": "code",
   "execution_count": 2,
   "metadata": {},
   "outputs": [
    {
     "name": "stdout",
     "output_type": "stream",
     "text": [
      "brand = brandA\n",
      "brand = brandB\n",
      "brand = brandC\n"
     ]
    }
   ],
   "source": [
    "# binary_name=product_name.brand.version.ext\n",
    "def get_brand_from_name(binary_name):\n",
    "    return binary_name.split('.')[1]\n",
    "    \n",
    "binary_name = 'product_name.brandA.version.ext'\n",
    "print(f'brand = {get_brand_from_name(binary_name)}')\n",
    "\n",
    "binary_name = 'product_name.brandB.version.ext'\n",
    "print(f'brand = {get_brand_from_name(binary_name)}')\n",
    "\n",
    "binary_name = 'product_name.brandC.version.ext'\n",
    "print(f'brand = {get_brand_from_name(binary_name)}')"
   ]
  },
  {
   "cell_type": "markdown",
   "metadata": {},
   "source": [
    "# Using regular expressions ([re](https://docs.python.org/3/library/re.html))"
   ]
  },
  {
   "cell_type": "code",
   "execution_count": 9,
   "metadata": {},
   "outputs": [
    {
     "name": "stdout",
     "output_type": "stream",
     "text": [
      "brand = brandA\n",
      "brand = brandB\n",
      "brand = brandC\n"
     ]
    }
   ],
   "source": [
    "# product.brand-M.m.r.b.ext\n",
    "import re\n",
    "\n",
    "def get_brand_from_name(binary_name):\n",
    "    try:\n",
    "        # dot has to be escaped so it's interpreted literally\n",
    "        brand = re.search('\\.(.+?)-', binary_name).group(1)\n",
    "    except AttributeError:\n",
    "        # ., - not found in the original string\n",
    "        brand = ''\n",
    "    return brand\n",
    "\n",
    "binary_name = 'product.brandA-1.2.3.4.ext'\n",
    "print(f'brand = {get_brand_from_name(binary_name)}')\n",
    "\n",
    "binary_name = 'product.brandB-1.2.3.4.ext'\n",
    "print(f'brand = {get_brand_from_name(binary_name)}')\n",
    "\n",
    "binary_name = 'product.brandC-1.2.3.4.ext'\n",
    "print(f'brand = {get_brand_from_name(binary_name)}')"
   ]
  }
 ],
 "metadata": {
  "kernelspec": {
   "display_name": "Python 3",
   "language": "python",
   "name": "python3"
  },
  "language_info": {
   "codemirror_mode": {
    "name": "ipython",
    "version": 3
   },
   "file_extension": ".py",
   "mimetype": "text/x-python",
   "name": "python",
   "nbconvert_exporter": "python",
   "pygments_lexer": "ipython3",
   "version": "3.6.12"
  }
 },
 "nbformat": 4,
 "nbformat_minor": 4
}
