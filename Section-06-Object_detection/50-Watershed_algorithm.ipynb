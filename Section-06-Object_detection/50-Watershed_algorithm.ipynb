{
 "cells": [
  {
   "cell_type": "markdown",
   "metadata": {},
   "source": [
    "# Watershed Algorithm (Part 1)\n",
    "\n",
    "[Watershed (image processing)](https://en.wikipedia.org/wiki/Watershed_(image_processing))\n",
    "[Watershed OpenCV - PyImageSearch](https://www.pyimagesearch.com/2015/11/02/watershed-opencv/)\n",
    "[Image Segmentation with Watershed Algorithm](https://opencv-python-tutroals.readthedocs.io/en/latest/py_tutorials/py_imgproc/py_watershed/py_watershed.html)\n",
    "\n",
    "The watershed algorithm transformation treats the image it operates upon like a topographic map, with the brightness of each point representing its height, and finds the lines that run along the tops of ridges. \n",
    "\n",
    "Any grayscale image can be viewed as a topographic surface where high intensity denotes peaks and hills while low intensity denotes valleys. The algorithm can then fill every isolated valley (local minima) with different coloured water (labels). We're colouring the different segments of the image.\n",
    "\n",
    "As the \"water\" rises, depending on the peaks (gradients) nearby, \"water\" from different valleys (different segments of the image), with different colours could start to merge. To avoid this merging, the algorithm creates barriers (segment edge boundaries) in locations where \"water\" merges. A boundary will be created between segments of different brightness levels.\n",
    "\n",
    "This algorithm is especially useful for segmenting images into background and foreground in situations that are difficult for other algorithms. A common example is the use of coins next to each other on a table. In this case, it may be unclear to the algorithm if it should be treated as one large object or many small objects. The watershed algorithm segments out each coin individually as humans do. \n",
    "\n",
    "![Coins on the table](../img/water_result.jpg)\n",
    "\n",
    "\n",
    "[The Power Watershed Algorithm](http://powerwatershed.sourceforge.net/)\n",
    "\n",
    "It is possible to provide our own custom \"seeds\" that allow us to manually start where the valleys of the watersheds go.\n",
    "\n",
    "![Customs seeds](../img/multi_seeds2.png)\n",
    "\n",
    "Then the image segments can be calculated:\n",
    "\n",
    "![Segmentation with Power Watershed algorithm](../img/PW_overlay.gif)"
   ]
  },
  {
   "cell_type": "code",
   "execution_count": null,
   "metadata": {},
   "outputs": [],
   "source": [
    "import cv2\n",
    "import numpy as np\n",
    "import matplotlib.pyplot as plt"
   ]
  },
  {
   "cell_type": "code",
   "execution_count": null,
   "metadata": {},
   "outputs": [],
   "source": [
    "def display(img, cmap='gray'):\n",
    "    fig = plt.figure(figsize=(12, 10))\n",
    "    ax = fig.add_subplot(111)\n",
    "    ax.imshow(img, cmap='gray')"
   ]
  },
  {
   "cell_type": "code",
   "execution_count": null,
   "metadata": {},
   "outputs": [],
   "source": [
    "sep_coins = cv2.imread('../data/pennies.jpg')"
   ]
  },
  {
   "cell_type": "code",
   "execution_count": null,
   "metadata": {},
   "outputs": [],
   "source": [
    "display(sep_coins)"
   ]
  },
  {
   "cell_type": "markdown",
   "metadata": {},
   "source": [
    "Lots of computer vision algorithms would treat this as a giant blob (a single object) on a white background. We want to extract 7 segments here actually: 6 for coins and 1 for the background.\n",
    "\n",
    "Let's first try to apply some of the CV algorithms shown so far and perform a segmentation:\n",
    "* Median blur - used to remove small, unnecessary details like images on coins\n",
    "* Convert to grayscale\n",
    "* Binary threshold - to conver it to black and white\n",
    "* Find contours"
   ]
  },
  {
   "cell_type": "code",
   "execution_count": null,
   "metadata": {},
   "outputs": [],
   "source": [
    "# choosing larger kernel size as image itself is quite large (3000x4000px)\n",
    "sep_coins_blur = cv2.medianBlur(sep_coins, 25)"
   ]
  },
  {
   "cell_type": "code",
   "execution_count": null,
   "metadata": {},
   "outputs": [],
   "source": [
    "display(sep_coins_blur)"
   ]
  },
  {
   "cell_type": "code",
   "execution_count": null,
   "metadata": {},
   "outputs": [],
   "source": [
    "sep_coins_gray = cv2.cvtColor(sep_coins_blur, cv2.COLOR_BGR2GRAY)"
   ]
  },
  {
   "cell_type": "code",
   "execution_count": null,
   "metadata": {},
   "outputs": [],
   "source": [
    "display(sep_coins_gray)"
   ]
  },
  {
   "cell_type": "code",
   "execution_count": null,
   "metadata": {},
   "outputs": [],
   "source": [
    "ret, sep_coins_thresh = cv2.threshold(sep_coins_gray, 160, 255, cv2.THRESH_BINARY_INV)"
   ]
  },
  {
   "cell_type": "code",
   "execution_count": null,
   "metadata": {},
   "outputs": [],
   "source": [
    "display(sep_coins_thresh)"
   ]
  },
  {
   "cell_type": "code",
   "execution_count": null,
   "metadata": {},
   "outputs": [],
   "source": [
    "contours, hierarchy = cv2.findContours(sep_coins_thresh.copy(), cv2.RETR_CCOMP, cv2.CHAIN_APPROX_SIMPLE)"
   ]
  },
  {
   "cell_type": "code",
   "execution_count": null,
   "metadata": {},
   "outputs": [],
   "source": [
    "for i in range(len(contours)):\n",
    "    if hierarchy[0][i][3] == -1:  # is it external contour?\n",
    "        cv2.drawContours(sep_coins, contours, i, (255, 0, 0), 10) # red contours, thickness = 10\n",
    "        "
   ]
  },
  {
   "cell_type": "code",
   "execution_count": null,
   "metadata": {},
   "outputs": [],
   "source": [
    "display(sep_coins)"
   ]
  },
  {
   "cell_type": "markdown",
   "metadata": {},
   "source": [
    "As we can see, contours don't go around each coin but around their union object (external contour of the general, joint shape) which is not what we want."
   ]
  }
 ],
 "metadata": {
  "kernelspec": {
   "display_name": "Python 3",
   "language": "python",
   "name": "python3"
  },
  "language_info": {
   "codemirror_mode": {
    "name": "ipython",
    "version": 3
   },
   "file_extension": ".py",
   "mimetype": "text/x-python",
   "name": "python",
   "nbconvert_exporter": "python",
   "pygments_lexer": "ipython3",
   "version": "3.6.6"
  }
 },
 "nbformat": 4,
 "nbformat_minor": 4
}
