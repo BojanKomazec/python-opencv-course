{
 "cells": [
  {
   "cell_type": "markdown",
   "metadata": {},
   "source": [
    "# Russian License Plate Blurring\n",
    "\n",
    "Use Haar Cascades to blur license plates in an image.\n",
    "\n",
    "OpenCV comes with a Russian license plate detector xml file."
   ]
  },
  {
   "cell_type": "code",
   "execution_count": null,
   "metadata": {},
   "outputs": [],
   "source": [
    "import cv2\n",
    "import numpy as np\n",
    "import matplotlib.pyplot as plt"
   ]
  },
  {
   "cell_type": "code",
   "execution_count": null,
   "metadata": {},
   "outputs": [],
   "source": [
    "img = cv2.imread('../data/car_plate.jpg')\n",
    "# print(img)\n",
    "# plt.imshow(img)\n",
    "plt.imshow(img, cmap='gray')"
   ]
  },
  {
   "cell_type": "code",
   "execution_count": null,
   "metadata": {},
   "outputs": [],
   "source": [
    "# display image at larger scale and with configurable colouring\n",
    "def display(img):\n",
    "    fig = plt.figure(figsize=(12, 10))\n",
    "    ax = fig.add_subplot(111)\n",
    "    new_img = cv2.cvtColor(img, cv2.COLOR_BGR2RGB)\n",
    "    ax.imshow(new_img)"
   ]
  },
  {
   "cell_type": "code",
   "execution_count": null,
   "metadata": {},
   "outputs": [],
   "source": [
    "display(img)"
   ]
  },
  {
   "cell_type": "code",
   "execution_count": null,
   "metadata": {},
   "outputs": [],
   "source": [
    "ru_car_plate_classifier = cv2.CascadeClassifier('../data/haarcascades/haarcascade_russian_plate_number.xml')\n",
    "\n",
    "# draws a rectangle around what it detects to be a license plate\n",
    "def detect_plate(img):\n",
    "    img_out = img.copy()\n",
    "    rectangles = ru_car_plate_classifier.detectMultiScale(img_out, scaleFactor = 1.2, minNeighbors = 5)\n",
    "    \n",
    "    # (x, y) is top left corner\n",
    "    for (x, y, w, h) in rectangles:\n",
    "        # (255, 255, 255) is white color of the rectangle; 10 is thickness\n",
    "        cv2.rectangle(img_out, (x, y), (x + w, y + h), (255, 255, 255), 5)\n",
    "    return img_out"
   ]
  },
  {
   "cell_type": "code",
   "execution_count": null,
   "metadata": {},
   "outputs": [],
   "source": [
    "img_with_detection = detect_plate(img)"
   ]
  },
  {
   "cell_type": "code",
   "execution_count": null,
   "metadata": {},
   "outputs": [],
   "source": [
    "display(img_with_detection)"
   ]
  },
  {
   "cell_type": "code",
   "execution_count": null,
   "metadata": {},
   "outputs": [],
   "source": [
    "def detect_and_bluir_plate(img):\n",
    "    print(f'img.shape = {img.shape}')\n",
    "    # numpy 2d array is in shape rows x columns (height x width)\n",
    "    # Height axis starts from the upper left corner of the image and goes down.\n",
    "    # Width axis starts from the upper left corner of the image and goes to the right.\n",
    "    print(f'img height = {img.shape[0]}, img width = {img.shape[1]}')\n",
    "\n",
    "    img_out = img.copy()\n",
    "    rectangles = ru_car_plate_classifier.detectMultiScale(img_out, scaleFactor = 1.2, minNeighbors = 5)\n",
    "    \n",
    "    for (x, y, w, h) in rectangles:\n",
    "        print(f\"x = {x}, y = {y}, w = {w}, h = {h}\")\n",
    "        # (x, y) is top left corner\n",
    "        # This is the most important bit here: \n",
    "        # OpenCV point coordinates (x, y) are opposite of NumPy 2d array coordinates:\n",
    "        #    x is on horizontal (width) axis which is 2nd dimension in NumPy 2d array\n",
    "        #    y is on vertical (height) axis which is 1st dimension in NumPy 2d array\n",
    "        # That's why we add h to y and w to x:\n",
    "        plate = img_out[y:y+h, x:x+w]\n",
    "        print(f\"plate.shape = {plate.shape}\")\n",
    "        # plt.imshow(plate, cmap='gray')\n",
    "        plate_blurred = cv2.medianBlur(plate, 5)\n",
    "        # plt.imshow(plate_blurred, cmap='gray')\n",
    "        # (255, 255, 255) is white color of the rectangle; 10 is thickness\n",
    "        cv2.rectangle(img_out, (x, y), (x + w, y + h), (255, 255, 255), 5)\n",
    "        img_out[y:y+h, x:x+w] = plate_blurred\n",
    "        \n",
    "    return img_out"
   ]
  },
  {
   "cell_type": "code",
   "execution_count": null,
   "metadata": {},
   "outputs": [],
   "source": [
    "img_out = detect_and_bluir_plate(img)"
   ]
  },
  {
   "cell_type": "code",
   "execution_count": null,
   "metadata": {},
   "outputs": [],
   "source": [
    "display(img_out)"
   ]
  },
  {
   "cell_type": "code",
   "execution_count": null,
   "metadata": {},
   "outputs": [],
   "source": [
    "# check that we haven't modified the original image\n",
    "display(img)"
   ]
  }
 ],
 "metadata": {
  "kernelspec": {
   "display_name": "Python 3",
   "language": "python",
   "name": "python3"
  },
  "language_info": {
   "codemirror_mode": {
    "name": "ipython",
    "version": 3
   },
   "file_extension": ".py",
   "mimetype": "text/x-python",
   "name": "python",
   "nbconvert_exporter": "python",
   "pygments_lexer": "ipython3",
   "version": "3.6.12"
  }
 },
 "nbformat": 4,
 "nbformat_minor": 4
}
