{
 "cells": [
  {
   "cell_type": "markdown",
   "metadata": {},
   "source": [
    "# Edge Detection\n",
    "\n",
    "[Edge detection (Wikipedia)](https://en.wikipedia.org/wiki/Edge_detection)\n",
    "\n",
    "## Canny Edge Detector\n",
    "\n",
    "[Canny edge detector(Wikipedia)](https://en.wikipedia.org/wiki/Canny_edge_detector)\n",
    "\n",
    "* John Canny (1986)\n",
    "* It is a multi-stage algorithm:\n",
    "   * apply Gaussian filter to smooth the image in order to remove the noise (this is to remove background noise and to reduce the number foreground features to avoid too many edges).\n",
    "   * find the intesity gradients of the image\n",
    "   * apply non-maximum suppression to get rid of fake response to edge detection\n",
    "   * apply double threshold to determine potential edges\n",
    "   * track edge by hysteresis: finalize the detection of edges by suppressing all the other edges that are weak and not connected to strong edges\n",
    "* For high resolution images where you only want general edges, it is usually a good idea to apply a custom blur before applying the Canny Algorithm\n",
    "* User is required to decide on low and high threshold values\n",
    "* In our notebook we provide an equation for picking a good starting point for threshold values, but often you'll need to adjust to your particular image"
   ]
  },
  {
   "cell_type": "code",
   "execution_count": null,
   "metadata": {},
   "outputs": [],
   "source": [
    "import cv2\n",
    "import numpy as np\n",
    "import matplotlib.pyplot as plt"
   ]
  },
  {
   "cell_type": "code",
   "execution_count": null,
   "metadata": {},
   "outputs": [],
   "source": [
    "img = cv2.imread('../data/sammy_face.jpg')\n",
    "plt.imshow(img)"
   ]
  },
  {
   "cell_type": "markdown",
   "metadata": {},
   "source": [
    "[edges = cv2.Canny()](https://docs.opencv.org/3.4/dd/d1a/group__imgproc__feature.html#ga04723e007ed888ddf11d9ba04e2232de)\n",
    "\n",
    "* `image` - 8-bit input image.\n",
    "* `edges` - output edge map; single channels 8-bit image, which has the same size as image .\n",
    "* `threshold1` - first threshold for the hysteresis procedure.\n",
    "* `threshold2` - second threshold for the hysteresis procedure.\n",
    "* `apertureSize` - aperture size for the Sobel operator. Default value is `3`. \n",
    "* `L2gradient` - a flag. Default value is `false`. \n",
    "\n",
    "[Canny Edge Detector (OpenCV)](https://docs.opencv.org/3.4/da/d5c/tutorial_canny_detector.html)\n",
    "\n",
    "[Canny Edge Detection](https://opencv-python-tutroals.readthedocs.io/en/latest/py_tutorials/py_imgproc/py_canny/py_canny.html)"
   ]
  },
  {
   "cell_type": "code",
   "execution_count": null,
   "metadata": {},
   "outputs": [],
   "source": [
    "edges = cv2.Canny(image=img, threshold1=127, threshold2=127)\n",
    "plt.imshow(edges)"
   ]
  },
  {
   "cell_type": "markdown",
   "metadata": {},
   "source": [
    "We can see main edges abut also lots of noise. To remove the noise we can:\n",
    "* blur the image first\n",
    "* use different threshold values"
   ]
  },
  {
   "cell_type": "code",
   "execution_count": null,
   "metadata": {},
   "outputs": [],
   "source": [
    "edges = cv2.Canny(image=img, threshold1=0, threshold2=255)\n",
    "plt.imshow(edges)"
   ]
  },
  {
   "cell_type": "markdown",
   "metadata": {},
   "source": [
    "There is a formula that can help in choosing the threshold. It works well especially after the image is blurred."
   ]
  },
  {
   "cell_type": "code",
   "execution_count": null,
   "metadata": {},
   "outputs": [],
   "source": [
    "# we first need to calculate the medium pixel value\n",
    "med_val = np.median(img)\n",
    "med_val"
   ]
  },
  {
   "cell_type": "code",
   "execution_count": null,
   "metadata": {},
   "outputs": [],
   "source": [
    "lower = int(max(0, 0.7*med_val)) # 70% of median value\n",
    "upper = int(min(255, 1.3*med_val)) # 130% of median value\n",
    "\n",
    "print(f'lower = {lower}, upper = {upper}')"
   ]
  },
  {
   "cell_type": "code",
   "execution_count": null,
   "metadata": {},
   "outputs": [],
   "source": [
    "# threshold2 = upper\n",
    "threshold2 = upper + 50\n",
    "edges = cv2.Canny(image=img, threshold1=lower, threshold2=threshold2)\n",
    "plt.imshow(edges)\n"
   ]
  },
  {
   "cell_type": "code",
   "execution_count": null,
   "metadata": {},
   "outputs": [],
   "source": [
    "# blur the image\n",
    "blurred_img = cv2.blur(img, ksize=(5, 5))"
   ]
  },
  {
   "cell_type": "code",
   "execution_count": null,
   "metadata": {},
   "outputs": [],
   "source": [
    "edges = cv2.Canny(image=blurred_img, threshold1=lower, threshold2=threshold2)\n",
    "plt.imshow(edges)"
   ]
  }
 ],
 "metadata": {
  "kernelspec": {
   "display_name": "Python 3",
   "language": "python",
   "name": "python3"
  },
  "language_info": {
   "codemirror_mode": {
    "name": "ipython",
    "version": 3
   },
   "file_extension": ".py",
   "mimetype": "text/x-python",
   "name": "python",
   "nbconvert_exporter": "python",
   "pygments_lexer": "ipython3",
   "version": "3.6.6"
  }
 },
 "nbformat": 4,
 "nbformat_minor": 2
}
