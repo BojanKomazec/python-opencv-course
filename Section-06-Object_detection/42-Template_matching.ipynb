{
 "cells": [
  {
   "cell_type": "markdown",
   "metadata": {},
   "source": [
    "# Template Matching\n",
    "\n",
    "\n",
    "[Template matching (Wikipedia)](https://en.wikipedia.org/wiki/Template_matching)\n",
    "[Template Matching (OpenCV doc)](https://docs.opencv.org/master/d4/dc6/tutorial_py_template_matching.html)\n",
    "\n",
    "* the simplest form of object detection\n",
    "* scans a larger image for a provided template by sliding the template target image across the larger image\n",
    "* a choice on comparison method used; these methods are all some sort of correlation-based metric: [TemplateMatchModes](https://docs.opencv.org/master/df/dfb/group__imgproc__object.html#gga3a7850640f1fe1f58fe91a2d7583695dac5babb7dfda59544e3e31ea928f8cb16)"
   ]
  },
  {
   "cell_type": "code",
   "execution_count": null,
   "metadata": {},
   "outputs": [],
   "source": []
  }
 ],
 "metadata": {
  "kernelspec": {
   "display_name": "Python 3",
   "language": "python",
   "name": "python3"
  },
  "language_info": {
   "codemirror_mode": {
    "name": "ipython",
    "version": 3
   },
   "file_extension": ".py",
   "mimetype": "text/x-python",
   "name": "python",
   "nbconvert_exporter": "python",
   "pygments_lexer": "ipython3",
   "version": "3.6.6"
  }
 },
 "nbformat": 4,
 "nbformat_minor": 2
}
