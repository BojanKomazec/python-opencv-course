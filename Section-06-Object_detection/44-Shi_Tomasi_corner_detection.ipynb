{
 "cells": [
  {
   "cell_type": "markdown",
   "metadata": {},
   "source": [
    "# Corner Detection (Part 2) - Harris Corner Detection\n",
    "\n",
    "## Shi-Tomasi Corner Detection\n",
    "\n",
    "* Jianbo Shi, Carlo Tomasi: [\"Good features to track\" (1994)](http://www.ai.mit.edu/courses/6.891/handouts/shi94good.pdf)\n",
    "* a modification of Harris Corner Detection which gave better results\n",
    "* scoring criteria:\n",
    "\n",
    "\\begin{equation*}\n",
    "R = min(\\lambda_1, \\lambda_2)\n",
    "\\end{equation*}\n",
    "\n",
    "[Shi-Tomasi Corner Detector & Good Features to Track](https://docs.opencv.org/master/d4/d8c/tutorial_py_shi_tomasi.html)\n"
   ]
  },
  {
   "cell_type": "code",
   "execution_count": null,
   "metadata": {},
   "outputs": [],
   "source": [
    "import cv2\n",
    "import numpy as np\n",
    "import matplotlib.pyplot as plt"
   ]
  },
  {
   "cell_type": "code",
   "execution_count": null,
   "metadata": {},
   "outputs": [],
   "source": [
    "flat_chess = cv2.imread('../data/flat_chessboard.png')\n",
    "flat_chess = cv2.cvtColor(flat_chess, cv2.COLOR_BGR2RGB)\n",
    "gray_flat_chess = cv2.cvtColor(flat_chess, cv2.COLOR_BGR2GRAY)\n",
    "\n",
    "real_chess = cv2.imread('../data/real_chessboard.jpg')\n",
    "real_chess = cv2.cvtColor(real_chess, cv2.COLOR_BGR2RGB)\n",
    "gray_real_chess = cv2.cvtColor(real_chess, cv2.COLOR_RGB2GRAY)"
   ]
  },
  {
   "cell_type": "markdown",
   "metadata": {},
   "source": [
    "[cv2.goodFeaturesToTrack()](https://docs.opencv.org/master/dd/d1a/group__imgproc__feature.html#ga1d6bb77486c8f92d79c8793ad995d541)\n",
    "                                                        \n",
    "* `image` - Input 8-bit or floating-point 32-bit, single-channel image.\n",
    "* `corners` - Output vector of detected corners.\n",
    "* `maxCorners` - Maximum number of corners to return. If there are more corners than are found, the strongest of them is returned. maxCorners <= 0 (e.g. -1) implies that no limit on the maximum is set and all detected corners are returned.\n",
    "* `qualityLevel` - Parameter characterizing the minimal accepted quality of image corners. The parameter value is multiplied by the best corner quality measure, which is the minimal eigenvalue (see cornerMinEigenVal ) or the Harris function response (see cornerHarris ). The corners with the quality measure less than the product are rejected. For example, if the best corner has the quality measure = 1500, and the qualityLevel=0.01 , then all the corners with the quality measure less than 15 are rejected.\n",
    "* `minDistance` - Minimum possible Euclidean distance between the returned corners.\n",
    "* `mask` - Optional region of interest. If the image is not empty (it needs to have the type CV_8UC1 and the same size as image ), it specifies the region in which the corners are detected.\n",
    "* `blockSize` - Size of an average block for computing a derivative covariation matrix over each pixel neighborhood. See cornerEigenValsAndVecs .\n",
    "* `useHarrisDetector` - Parameter indicating whether to use a Harris detector (see cornerHarris) or cornerMinEigenVal.\n",
    "* `k` - Free parameter of the Harris detector."
   ]
  },
  {
   "cell_type": "code",
   "execution_count": null,
   "metadata": {},
   "outputs": [],
   "source": [
    "maxCorners=5\n",
    "corners = cv2.goodFeaturesToTrack(image=gray_flat_chess, maxCorners=maxCorners, qualityLevel=0.01, minDistance=10)"
   ]
  },
  {
   "cell_type": "code",
   "execution_count": null,
   "metadata": {},
   "outputs": [],
   "source": [
    "corners"
   ]
  },
  {
   "cell_type": "code",
   "execution_count": null,
   "metadata": {},
   "outputs": [],
   "source": [
    "# goodFeaturesToTrack doesn't automatically mark the corners so we'll need to flatten the array and draw circles on it\n",
    "# convert float to integers so we can draw circles on detected corners\n",
    "corners = np.int0(corners)\n",
    "corners"
   ]
  },
  {
   "cell_type": "code",
   "execution_count": null,
   "metadata": {},
   "outputs": [],
   "source": [
    "for i in corners:\n",
    "    x, y = i.ravel() # flatten the array\n",
    "    cv2.circle(flat_chess, (x, y), 3, (255, 0, 0), -1)\n",
    "\n",
    "plt.imshow(flat_chess)"
   ]
  },
  {
   "cell_type": "code",
   "execution_count": null,
   "metadata": {},
   "outputs": [],
   "source": [
    "maxCorners=80\n",
    "corners = cv2.goodFeaturesToTrack(image=gray_real_chess, maxCorners=maxCorners, qualityLevel=0.01, minDistance=10)\n",
    "corners = np.int0(corners)\n",
    "for i in corners:\n",
    "    x, y = i.ravel() # flatten the array\n",
    "    cv2.circle(real_chess, (x, y), 3, (255, 0, 0), -1)\n",
    "\n",
    "plt.imshow(real_chess)"
   ]
  }
 ],
 "metadata": {
  "kernelspec": {
   "display_name": "Python 3",
   "language": "python",
   "name": "python3"
  },
  "language_info": {
   "codemirror_mode": {
    "name": "ipython",
    "version": 3
   },
   "file_extension": ".py",
   "mimetype": "text/x-python",
   "name": "python",
   "nbconvert_exporter": "python",
   "pygments_lexer": "ipython3",
   "version": "3.6.6"
  }
 },
 "nbformat": 4,
 "nbformat_minor": 2
}
