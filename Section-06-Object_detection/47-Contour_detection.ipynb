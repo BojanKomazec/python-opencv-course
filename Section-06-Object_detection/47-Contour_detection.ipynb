{
 "cells": [
  {
   "cell_type": "markdown",
   "metadata": {},
   "source": [
    "# Contour Detection\n",
    "\n",
    "Contour is a curve joining all the continuous points (along the boundary), having same colour or intensity.\n",
    "\n",
    "Contours are a useful tool for shape analysis and object detection and recognition.\n",
    "\n",
    "Internal contours are within some object (their boundaries are touching the foreground object) and external are on the outer edge of the object (their boundaries are touching the background/background object).\n",
    "\n",
    "[Contours Hierarchy (OpenCV)](https://docs.opencv.org/master/d9/d8b/tutorial_py_contours_hierarchy.html)"
   ]
  },
  {
   "cell_type": "code",
   "execution_count": null,
   "metadata": {},
   "outputs": [],
   "source": [
    "import cv2\n",
    "import numpy as np\n",
    "import matplotlib.pyplot as plt"
   ]
  },
  {
   "cell_type": "code",
   "execution_count": null,
   "metadata": {},
   "outputs": [],
   "source": [
    "img = cv2.imread('../data/internal_external.png', 0) # 0 - read in grayscale\n",
    "img.shape"
   ]
  },
  {
   "cell_type": "code",
   "execution_count": null,
   "metadata": {},
   "outputs": [],
   "source": [
    "plt.imshow(img, cmap='gray')"
   ]
  },
  {
   "cell_type": "markdown",
   "metadata": {},
   "source": [
    "`contours, hierarchy = cv.findContours(image, mode, method[, contours[, hierarchy[, offset]]])`\n",
    "\n",
    "Finds contours in a binary image.\n",
    "\n",
    "The function retrieves contours from the binary image using the algorithm. The contours are a useful tool for shape analysis and object detection and recognition.\n",
    "\n",
    "\n",
    "* `image` - Source, an 8-bit single-channel image. Non-zero pixels are treated as 1's. Zero pixels remain 0's, so the image is treated as binary . You can use compare, inRange, threshold , adaptiveThreshold, Canny, and others to create a binary image out of a grayscale or color one. If mode equals to RETR_CCOMP or RETR_FLOODFILL, the input can also be a 32-bit integer image of labels (CV_32SC1).\n",
    "* `contours` - Detected contours. Each contour is stored as a vector of points (e.g. std::vector<std::vector<cv::Point> >).\n",
    "* `hierarchy` - Optional output vector (e.g. std::vector<cv::Vec4i>), containing information about the image topology. It has as many elements as the number of contours. For each i-th contour contours[i], the elements hierarchy[i][0] , hierarchy[i][1] , hierarchy[i][2] , and hierarchy[i][3] are set to 0-based indices in contours of the next and previous contours at the same hierarchical level, the first child contour and the parent contour, respectively. If for the contour i there are no next, previous, parent, or nested contours, the corresponding elements of hierarchy[i] will be negative.\n",
    "* `mode` - Contour retrieval mode, see [RetrievalModes](https://docs.opencv.org/master/d3/dc0/group__imgproc__shape.html#ga819779b9857cc2f8601e6526a3a5bc71)\n",
    "   * RETR_EXTERNAL \n",
    "Python: cv.RETR_EXTERNAL\n",
    "retrieves only the extreme outer contours. It sets hierarchy[i][2]=hierarchy[i][3]=-1 for all the contours.\n",
    "\n",
    "   * RETR_LIST \n",
    "Python: cv.RETR_LIST\n",
    "retrieves all of the contours without establishing any hierarchical relationships.\n",
    "\n",
    "   * RETR_CCOMP \n",
    "Python: cv.RETR_CCOMP\n",
    "retrieves all of the contours and organizes them into a two-level hierarchy. At the top level, there are external boundaries of the components. At the second level, there are boundaries of the holes. If there is another contour inside a hole of a connected component, it is still put at the top level.\n",
    "\n",
    "   * RETR_TREE \n",
    "Python: cv.RETR_TREE\n",
    "retrieves all of the contours and reconstructs a full hierarchy of nested contours.\n",
    "\n",
    "   * RETR_FLOODFILL \n",
    "Python: cv.RETR_FLOODFILL\n",
    "\n",
    "* `method` - Contour approximation method, see ContourApproximationModes\n",
    "* `offset` - Optional offset by which every contour point is shifted. This is useful if the contours are extracted from the image ROI and then they should be analyzed in the whole image context.\n"
   ]
  },
  {
   "cell_type": "code",
   "execution_count": null,
   "metadata": {},
   "outputs": [],
   "source": [
    "# cv2.RETR_CCOMP - returns both internal and external (complete) contours\n",
    "contours, hierarchy = cv2.findContours(img, cv2.RETR_CCOMP, cv2.CHAIN_APPROX_SIMPLE) "
   ]
  },
  {
   "cell_type": "code",
   "execution_count": null,
   "metadata": {},
   "outputs": [],
   "source": [
    "type(contours)"
   ]
  },
  {
   "cell_type": "code",
   "execution_count": null,
   "metadata": {},
   "outputs": [],
   "source": [
    "len(contours)"
   ]
  },
  {
   "cell_type": "code",
   "execution_count": null,
   "metadata": {},
   "outputs": [],
   "source": [
    "type(hierarchy)"
   ]
  },
  {
   "cell_type": "code",
   "execution_count": null,
   "metadata": {},
   "outputs": [],
   "source": [
    "hierarchy\n",
    "# observe values in the last column: they represent groups of contours:\n",
    "# -1 are external\n",
    "# all other are internal:\n",
    "#   0 are face parts\n",
    "#   4 are pepperonis on the pizza"
   ]
  },
  {
   "cell_type": "code",
   "execution_count": null,
   "metadata": {},
   "outputs": [],
   "source": [
    "hierarchy.shape"
   ]
  },
  {
   "cell_type": "code",
   "execution_count": null,
   "metadata": {},
   "outputs": [],
   "source": [
    "len(hierarchy[0])"
   ]
  },
  {
   "cell_type": "code",
   "execution_count": null,
   "metadata": {},
   "outputs": [],
   "source": [
    "external_contours = np.zeros(img.shape)\n",
    "external_contours.shape"
   ]
  },
  {
   "cell_type": "markdown",
   "metadata": {},
   "source": [
    "[image = cv2.drawContours(image, contours, contourIdx, color\\[, thickness\\[, lineType\\[, hierarchy\\[, maxLevel\\[, offset\\]\\]\\]\\]\\])](https://docs.opencv.org/master/d6/d6e/group__imgproc__draw.html#ga746c0625f1781f1ffc9056259103edbc)\n",
    "\n",
    "Draws contours outlines or filled contours.\n",
    "\n",
    "* `image` - Destination image.\n",
    "* `contours` - All the input contours. Each contour is stored as a point vector.\n",
    "* `contourIdx` - Parameter indicating a contour to draw. If it is negative, all the contours are drawn.\n",
    "* `color` - Color of the contours.\n",
    "* `thickness` - Thickness of lines the contours are drawn with. If it is negative (for example, thickness=FILLED ), the contour interiors are drawn.\n",
    "* `lineType` - Line connectivity. See LineTypes\n",
    "* `hierarchy` - Optional information about hierarchy. It is only needed if you want to draw only some of the contours (see maxLevel ).\n",
    "* `maxLevel` - Maximal level for drawn contours. If it is 0, only the specified contour is drawn. If it is 1, the function draws the contour(s) and all the nested contours. If it is 2, the function draws the contours, all the nested contours, all the nested-to-nested contours, and so on. This parameter is only taken into account when there is hierarchy available.\n",
    "* `offset` - Optional contour shift parameter. Shift all the drawn contours by the specified offset=(dx,dy) .\n"
   ]
  },
  {
   "cell_type": "code",
   "execution_count": null,
   "metadata": {},
   "outputs": [],
   "source": [
    "for i in range(len(contours)):\n",
    "    if hierarchy[0][i][3] == -1: # external contours \n",
    "        cv2.drawContours(external_contours, contours, i, 255, -1)\n",
    "        \n",
    "plt.imshow(external_contours, cmap='gray')"
   ]
  },
  {
   "cell_type": "code",
   "execution_count": null,
   "metadata": {},
   "outputs": [],
   "source": [
    "internal_contours = np.zeros(img.shape)\n",
    "for i in range(len(contours)):\n",
    "    if hierarchy[0][i][3] != -1: # all internal contours\n",
    "        cv2.drawContours(internal_contours, contours, i, 255, -1)\n",
    "        \n",
    "plt.imshow(internal_contours, cmap='gray')"
   ]
  },
  {
   "cell_type": "code",
   "execution_count": null,
   "metadata": {},
   "outputs": [],
   "source": [
    "internal_contours_face = np.zeros(img.shape)\n",
    "for i in range(len(contours)):\n",
    "    if hierarchy[0][i][3] == 0: # contours inside a face\n",
    "        cv2.drawContours(internal_contours_face, contours, i, 255, -1)\n",
    "        \n",
    "plt.imshow(internal_contours_face, cmap='gray')"
   ]
  }
 ],
 "metadata": {
  "kernelspec": {
   "display_name": "Python 3",
   "language": "python",
   "name": "python3"
  },
  "language_info": {
   "codemirror_mode": {
    "name": "ipython",
    "version": 3
   },
   "file_extension": ".py",
   "mimetype": "text/x-python",
   "name": "python",
   "nbconvert_exporter": "python",
   "pygments_lexer": "ipython3",
   "version": "3.6.6"
  }
 },
 "nbformat": 4,
 "nbformat_minor": 2
}
