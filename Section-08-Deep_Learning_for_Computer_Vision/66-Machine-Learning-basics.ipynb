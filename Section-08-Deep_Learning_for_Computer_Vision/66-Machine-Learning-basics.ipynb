{
 "cells": [
  {
   "cell_type": "markdown",
   "metadata": {},
   "source": [
    "# Machine Learning Basics\n",
    "\n",
    "\n",
    "Machine Learning is a method of data analysis that automates analytical model building.  \n",
    "Using algorithms that iteratively learn from data, machine learning allows computers to find hidden insights without being explicitly programmed where to look. So far (in this course) we've been telling computer what to do with the image e.g. giving them a list of instructions like to perform morphological operators, certain filters, thresholding etc. With ML we give computer images and the desired output such as classifying something as a dog or cat and deep learning algorithms then work out on their own the best approach to take.\n",
    "\n",
    "\n",
    "## What is ML used for?  \n",
    "\n",
    "* Fraud detection\n",
    "* Web search results\n",
    "* Real-time ads on web pages\n",
    "* Credit scoring and next-best offers\n",
    "* Prediction of equipment failures\n",
    "* New pricing models\n",
    "* Network intrusion detection\n",
    "* Recommendation Engines\n",
    "* Customer segmentation\n",
    "* Text Sentiment Analysis\n",
    "* Predicting Customer Churn\n",
    "* Pattern and image recognition\n",
    "* Email spam filtering\n",
    "* Financial Modeling\n",
    "\n",
    "\n",
    "## Supervised Learning\n",
    "\n",
    "* Algorithms are trained using labeled examples such as an input where the desired output is known. For example, a picture could have a category label such as either Cat or Dog. \n",
    "* Learning algorithm receives a set of inputs along with the corresponding correct outputs, and the algorithm learns by comparing its actual output with correct outputs to find errors. It then modifies the algorithm accordingly.\n",
    "* It's commonly used in applications where historical data predicts likely future events such as historical image data can predict what the new image is\n",
    "\n",
    "## Machine Learning Process\n",
    "\n",
    "* Data Acquisition\n",
    " * Raw data (images, videos) from customers, sensors etc.\n",
    "* Data Cleaning\n",
    " * Clean and format data; data can come in different sizes, formats, rotations etc...\n",
    " * We can use Keras as it has built-in tools for this e.g. Image Data Generator Object that can stretch and resize images as necessary\n",
    "* Splitting data into:\n",
    " * Training Data (Training Set) e.g. 70% of the entire data\n",
    " * Test Data (Test Set) e.g. 30% of the entire data\n",
    "* Model Training and Building \n",
    " * We apply our model on the training data and have it learned on the training data\n",
    " * We build and fit the model to the training data\n",
    "* Model Testing (using Test Data; also iterating previous and this step)\n",
    " * We want to evaluate how does the model perform\n",
    " * We test it on the Test Data; it tries to predict on the data that we already know the label so we can evaluate how well it performs\n",
    " * In case we want to adjust model parameters we return it to the training phase to fit the model again...and retest...This can go in multiple iterations till our evaluation metrics are telling us that the model is performing well\n",
    "* Model Deployment\n",
    " * Model is now use to make predictions on a new, unseen data, that is out of our original data set\n",
    " \n",
    "\n",
    "\n",
    "Image classification and recognition is a very common and widely applicable use of deep learning and machine learning with OpenCV and Keras"
   ]
  }
 ],
 "metadata": {
  "kernelspec": {
   "display_name": "Python 3",
   "language": "python",
   "name": "python3"
  },
  "language_info": {
   "codemirror_mode": {
    "name": "ipython",
    "version": 3
   },
   "file_extension": ".py",
   "mimetype": "text/x-python",
   "name": "python",
   "nbconvert_exporter": "python",
   "pygments_lexer": "ipython3",
   "version": "3.6.12"
  }
 },
 "nbformat": 4,
 "nbformat_minor": 4
}
