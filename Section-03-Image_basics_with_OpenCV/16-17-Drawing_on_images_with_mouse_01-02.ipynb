{
 "cells": [
  {
   "cell_type": "markdown",
   "metadata": {},
   "source": [
    "OpenCV allows direct interaction between user and images/videos by connecting images/videos to event functions via callbacks."
   ]
  },
  {
   "cell_type": "markdown",
   "metadata": {},
   "source": [
    "[cv2.namedWindow()](https://docs.opencv.org/3.4/d7/dfc/group__highgui.html#ga5afdf8410934fd099df85c75b2e0888b) creates a window that can be used as a placeholder for images and trackbars. Created windows are referred to by their names. The fuction namedWindow just makes sure that if you wish to do something with that same window afterwards (eg move, resize, close that window), you can do it by referencing it with the same name. [c++ - OpenCV: Is namedWindow() necessary before imshow()? - Stack Overflow](https://stackoverflow.com/questions/31155577/opencv-is-namedwindow-necessary-before-imshow)\n",
    "\n",
    "[cv2.setMouseCallback()](https://docs.opencv.org/3.4/d7/dfc/group__highgui.html#ga89e7806b0a616f6f1d502bd8c183ad3e) Sets mouse handler for the specified window. Its arguments are: window, callback function for mouse events and the optional data passed to the callback.\n",
    "\n",
    "[cv2::MouseCallback](https://docs.opencv.org/3.4/d7/dfc/group__highgui.html#gab7aed186e151d5222ef97192912127a4) function type is a function which returns void and has the following parameters: mouse event type enum value, x and y coordinates of the mouse event, mouse event flags and optional user data. \n",
    "\n",
    "[cv2::MouseEventTypes](https://docs.opencv.org/3.4/d7/dfc/group__highgui.html#ga927593befdddc7e7013602bca9b079b0) is an enumeration which lists all mouse events like mouse move, left button down, right button up etc...\n",
    "\n",
    "[cv2.imshow()](https://docs.opencv.org/master/d7/dfc/group__highgui.html#ga453d42fe4cb60e5723281a89973ee563) Displays an image in the specified window. If the window was not created before this function, it is assumed creating a window with cv::WINDOW_AUTOSIZE. This function should be followed by cv::waitKey function which displays the image for specified milliseconds. Otherwise, it won't display the image. For example, waitKey(0) will display the window infinitely until any keypress (it is suitable for image display). waitKey(25) will display a frame for 25 ms, after which display will be automatically closed. (If you put it in a loop to read videos, it will display the video frame-by-frame). \n",
    "\n",
    "From [How to show every image in every loop - OpenCV Q&A Forum](https://answers.opencv.org/question/178623/how-to-show-every-image-in-every-loop/): \n",
    "`imshow()` just copies a pointer to the image, the actual drawing/blitting (whatever you might call it) is triggered from `waitKey()`. Think of it like this: any gui prog needs a message loop, and `waitKey()` is implementing exactly that; it's doing far more than waiting for a keypress. "
   ]
  },
  {
   "cell_type": "code",
   "execution_count": 2,
   "metadata": {},
   "outputs": [],
   "source": [
    "import cv2\n",
    "import numpy as np\n",
    "\n",
    "winname = 'mouse_draw_1'\n",
    "\n",
    "# mouse event callback - must conform to cv2::MouseCallback signature\n",
    "def draw_circle(event, x, y, flags, param):\n",
    "    if event == cv2.EVENT_LBUTTONDOWN:\n",
    "        cv2.circle(img, (x, y), 100, (0, 255, 0), -1) # green circle\n",
    "    elif event == cv2.EVENT_RBUTTONDOWN:\n",
    "        cv2.circle(img, (x, y), 100, (255, 0, 0), -1) # blue circle\n",
    "\n",
    "cv2.namedWindow(winname)\n",
    "cv2.setMouseCallback(winname, draw_circle)\n",
    "\n",
    "# Show image with OpenCV\n",
    "# np.int8 makes background a little more gray\n",
    "img = np.zeros((512, 512, 3), np.int8)\n",
    "\n",
    "# cv2.imshow(winname, img)\n",
    "while True:\n",
    "    cv2.imshow(winname, img)\n",
    "    # press ESC to close the window; don't use close button [x]\n",
    "    if cv2.waitKey(20) & 0xFF == 27:\n",
    "        break;\n",
    "\n",
    "cv2.destroyAllWindows()"
   ]
  },
  {
   "cell_type": "code",
   "execution_count": null,
   "metadata": {},
   "outputs": [],
   "source": []
  }
 ],
 "metadata": {
  "kernelspec": {
   "display_name": "Python 3",
   "language": "python",
   "name": "python3"
  },
  "language_info": {
   "codemirror_mode": {
    "name": "ipython",
    "version": 3
   },
   "file_extension": ".py",
   "mimetype": "text/x-python",
   "name": "python",
   "nbconvert_exporter": "python",
   "pygments_lexer": "ipython3",
   "version": "3.6.6"
  }
 },
 "nbformat": 4,
 "nbformat_minor": 2
}
