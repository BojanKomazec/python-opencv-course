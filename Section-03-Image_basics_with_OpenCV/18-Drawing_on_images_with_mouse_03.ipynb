{
 "cells": [
  {
   "cell_type": "code",
   "execution_count": 12,
   "metadata": {},
   "outputs": [],
   "source": [
    "import cv2\n",
    "import numpy as np\n",
    "\n",
    "img = np.zeros((512, 512, 3))\n",
    "winname = 'drawing_rectangles_demo'\n",
    "drawing = False\n",
    "starting_point = -1, -1\n",
    "\n",
    "# mouse event callback\n",
    "# This function draws rectangle by capturing the position of mouse left button click event and then\n",
    "# drawing and resizing the rectangle as mouse moves and stopping once user releases the left button.\n",
    "def draw_rectangle(event, x, y, flags, params):\n",
    "    global starting_point\n",
    "    global drawing\n",
    "\n",
    "    if event == cv2.EVENT_LBUTTONDOWN:\n",
    "        drawing = True\n",
    "        starting_point = x, y\n",
    "    elif event == cv2.EVENT_LBUTTONUP:\n",
    "        cv2.rectangle(img, pt1=starting_point, pt2=(x, y), color=(0, 255, 0), thickness=-1)\n",
    "        drawing = False\n",
    "        starting_point = -1, -1\n",
    "    elif event == cv2.EVENT_MOUSEMOVE:\n",
    "        if drawing:\n",
    "            cv2.rectangle(img, pt1=starting_point, pt2=(x, y), color=(0, 255, 0), thickness=-1)\n",
    "\n",
    "# showing the image\n",
    "cv2.namedWindow(winname)\n",
    "cv2.setMouseCallback(winname, draw_rectangle)\n",
    "\n",
    "while True:\n",
    "    cv2.imshow(winname, img)\n",
    "    if cv2.waitKey(1) & 0xFF == 27:\n",
    "        break;\n",
    "\n",
    "cv2.destroyAllWindows()"
   ]
  },
  {
   "cell_type": "code",
   "execution_count": null,
   "metadata": {},
   "outputs": [],
   "source": []
  }
 ],
 "metadata": {
  "kernelspec": {
   "display_name": "Python 3",
   "language": "python",
   "name": "python3"
  },
  "language_info": {
   "codemirror_mode": {
    "name": "ipython",
    "version": 3
   },
   "file_extension": ".py",
   "mimetype": "text/x-python",
   "name": "python",
   "nbconvert_exporter": "python",
   "pygments_lexer": "ipython3",
   "version": "3.6.6"
  }
 },
 "nbformat": 4,
 "nbformat_minor": 2
}
