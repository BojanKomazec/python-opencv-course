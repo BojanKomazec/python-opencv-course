{
 "cells": [
  {
   "cell_type": "markdown",
   "metadata": {},
   "source": [
    "<a href=\"https://www.pieriandata.com\"><img src=\"../DATA/Logo.jpg\"></a>"
   ]
  },
  {
   "cell_type": "markdown",
   "metadata": {},
   "source": [
    "# Image Basics Assessment\n",
    "\n",
    "## Complete the Tasks in bold below. Keep in mind, you may need to run some of these tasks as Python scripts."
   ]
  },
  {
   "cell_type": "markdown",
   "metadata": {},
   "source": [
    "----------\n",
    "#### TASK: Open the *dog_backpack.jpg* image from the DATA folder and display it in the notebook. Make sure to correct for the RGB order."
   ]
  },
  {
   "cell_type": "code",
   "execution_count": null,
   "metadata": {},
   "outputs": [],
   "source": [
    "import numpy as np\n",
    "import matplotlib.pyplot as plt\n",
    "import cv2"
   ]
  },
  {
   "cell_type": "code",
   "execution_count": null,
   "metadata": {},
   "outputs": [],
   "source": [
    "img = cv2.imread('../data/dog_backpack.jpg')"
   ]
  },
  {
   "cell_type": "code",
   "execution_count": null,
   "metadata": {},
   "outputs": [],
   "source": [
    "type(img)"
   ]
  },
  {
   "cell_type": "code",
   "execution_count": null,
   "metadata": {},
   "outputs": [],
   "source": [
    "plt.imshow(img)"
   ]
  },
  {
   "cell_type": "code",
   "execution_count": null,
   "metadata": {},
   "outputs": [],
   "source": [
    "fix_img = cv2.cvtColor(img, cv2.COLOR_BGR2RGB)\n",
    "plt.imshow(fix_img)"
   ]
  },
  {
   "cell_type": "markdown",
   "metadata": {},
   "source": [
    "#### TASK: Flip the image upside down and display it in the notebook."
   ]
  },
  {
   "cell_type": "code",
   "execution_count": null,
   "metadata": {},
   "outputs": [],
   "source": [
    "flipped_img = cv2.flip(fix_img, 0)\n",
    "plt.imshow(flipped_img)"
   ]
  },
  {
   "cell_type": "markdown",
   "metadata": {},
   "source": [
    "#### TASK: Draw an empty RED rectangle around the dogs face and display the image in the notebook."
   ]
  },
  {
   "cell_type": "code",
   "execution_count": null,
   "metadata": {},
   "outputs": [],
   "source": [
    "cv2.rectangle(fix_img, pt1=(200, 380), pt2=(650, 800), color=(255, 0, 0), thickness=10)\n",
    "plt.imshow(fix_img)"
   ]
  },
  {
   "cell_type": "markdown",
   "metadata": {},
   "source": [
    "#### TASK: Draw a BLUE TRIANGLE in the middle of the image. The size and angle is up to you, but it should be a triangle (three sides) in any orientation."
   ]
  },
  {
   "cell_type": "code",
   "execution_count": null,
   "metadata": {},
   "outputs": [],
   "source": [
    "fix_img.shape"
   ]
  },
  {
   "cell_type": "code",
   "execution_count": null,
   "metadata": {},
   "outputs": [],
   "source": [
    "vertices = np.array([[fix_img.shape[1]//2, fix_img.shape[0]//2 - 100], [fix_img.shape[1]//3, fix_img.shape[0]//2 + 100], [2 * (fix_img.shape[1]//3), fix_img.shape[0]//2 + 100]], dtype=np.int32) # specify dtype so the values are not converted to float\n",
    "pts = vertices.reshape((-1, 1, 2))\n",
    "cv2.polylines(fix_img, [pts], isClosed=True, color=(0, 0, 255), thickness=15)\n",
    "plt.imshow(fix_img)"
   ]
  },
  {
   "cell_type": "markdown",
   "metadata": {},
   "source": [
    "### BONUS TASK. Can you figure our how to fill in this triangle? It requires a different function that we didn't show in the lecture! See if you can use google search to find it.\n",
    "\n",
    "[CLICK ME FOR A DIRECT LINK TO THE HINT](https://docs.opencv.org/3.0-beta/modules/imgproc/doc/drawing_functions.html#fillpoly)"
   ]
  },
  {
   "cell_type": "markdown",
   "metadata": {},
   "source": [
    "[cv2.fillPoly()](https://docs.opencv.org/3.0-beta/modules/imgproc/doc/drawing_functions.html#fillpoly) fills the area bounded by one or more polygons. Its arguments are: \n",
    "- image\n",
    "- an array of polygons (\"one or more polygons\" gives us a hint that this has to be an array)\n",
    "- color\n",
    "- etc..."
   ]
  },
  {
   "cell_type": "code",
   "execution_count": null,
   "metadata": {},
   "outputs": [],
   "source": [
    "cv2.fillPoly(fix_img, [pts], color=(0, 0, 255))\n",
    "plt.imshow(fix_img)"
   ]
  },
  {
   "cell_type": "markdown",
   "metadata": {},
   "source": [
    "#### TASK: (NOTE: YOU WILL NEED TO RUN THIS AS A SCRIPT). Create a script that opens the picture and allows you to draw empty red circles whever you click the RIGHT MOUSE BUTTON DOWN."
   ]
  },
  {
   "cell_type": "markdown",
   "metadata": {},
   "source": [
    "B. Komazec: The cell below can actually be executed in a notebook."
   ]
  },
  {
   "cell_type": "code",
   "execution_count": null,
   "metadata": {},
   "outputs": [],
   "source": [
    "img2 = cv2.imread('../data/dog_backpack.jpg')\n",
    "print(type(img2))\n",
    "print(img2.shape)\n",
    "\n",
    "# fix_img = cv2.cvtColor(img, cv2.COLOR_BGR2RGB)\n",
    "fix_img = img2\n",
    "\n",
    "winname = 'mouse_draw_circles'\n",
    "\n",
    "# mouse event callback - must conform to cv2::MouseCallback signature\n",
    "def draw_circle(event, x, y, flags, param):\n",
    "    if event == cv2.EVENT_RBUTTONDOWN:\n",
    "        cv2.circle(fix_img, (x, y), 100, (0, 0, 255), 2) # red circle\n",
    "\n",
    "cv2.namedWindow(winname)\n",
    "cv2.setMouseCallback(winname, draw_circle)\n",
    "\n",
    "# Show image with OpenCV\n",
    "\n",
    "\n",
    "while True:\n",
    "    cv2.imshow(winname, fix_img)\n",
    "    # press ESC to close the window; don't use close button [x]\n",
    "    if cv2.waitKey(20) & 0xFF == 27:\n",
    "        break;\n",
    "\n",
    "cv2.destroyAllWindows()"
   ]
  }
 ],
 "metadata": {
  "kernelspec": {
   "display_name": "Python 3",
   "language": "python",
   "name": "python3"
  },
  "language_info": {
   "codemirror_mode": {
    "name": "ipython",
    "version": 3
   },
   "file_extension": ".py",
   "mimetype": "text/x-python",
   "name": "python",
   "nbconvert_exporter": "python",
   "pygments_lexer": "ipython3",
   "version": "3.6.12"
  }
 },
 "nbformat": 4,
 "nbformat_minor": 4
}
