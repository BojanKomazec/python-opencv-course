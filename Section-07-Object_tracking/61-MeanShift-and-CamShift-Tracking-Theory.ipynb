{
 "cells": [
  {
   "cell_type": "markdown",
   "metadata": {},
   "source": [
    "# MeanShift and CAMShift Tracking Algorithms\n",
    "\n",
    "## MeanShift\n",
    "\n",
    "[1][Mean Shift Clustering Overview](https://spin.atomicobject.com/2015/05/26/mean-shift-clustering/)  \n",
    "[2][Mean shift - Wikipedia](https://en.wikipedia.org/wiki/Mean_shift)\n",
    "\n",
    "- We have a set of points and want to assign them to clusters (group them into clusters)\n",
    "- We take all our data points and stack red and blue points on them (so red points are not visible as blue points are on them). Red points mark the original data points. Blue points represent locations of original data points when they start moving (converging) towards the closest cluster centers.\n",
    "- We calculate the direction to the closest cluster centroid by determining where most of the points nearby are at (essentially calculating a weghted mean). So in each iteration each blue point will move closer to where the most points are at, which is or will lead to the cluster center.\n",
    "- The red and blue datapoints overlap completely in the first iteration before the Meanshift algorithm starts.\n",
    "- At the end of iteration 1, all the blue points move towards the clusters. Here it appears there will be either 3 or 4 clusters (this depends on the kernel used).\n",
    "- Afer next iteration some data points might be reaching convergence (they will be close to centroids).\n",
    "- After N iterations, the algorithm finds (identifies) the final number of clusters. The cluster means stop moving. All the clusters have converged and there is no more movement. \n",
    "\n",
    "- MeanShift algorithm won't always detect what may be more \"reasonable\" number of clusters. (\"As with all clustering problems, there is no correct clustering. Rather, correct is usually defined by what seems reasonable given the problem domain and application.\" [1]). For example, instead of 3 clusters, it may have been more reasonable to detect 4 clusters (if we look the location of data points).\n",
    "- With MeanShift algorithm we don't know or specify in advance the number of clusters. The algorithm itself calculates on its own what a cluster should be based on weighted means that its moving towards the center of.\n",
    "- *K-means clustering* is a related algorithm in which we choose the number of clusters (K value).\n",
    "\n",
    "\n",
    "MeanShift can be given a target to track, calculate the color histogram of the target area and then keep sliding the tracking window to the closest match (the cluster center).  \n",
    "\n",
    "Just using MeanShift won't change the window size if the target moves away or towards the camera. We can use CAMShift to update the size of the window.\n",
    "\n",
    "\n",
    "## Continuously Adaptive MeanShift (CAMShift)\n",
    "\n",
    "-MeanShift that allows us to resize our target window.\n",
    "\n",
    "CAMShift starts the way as before. We first apply the MeanShift and then perform the iterations of MeanShift and eventually once MeanShift actually converges after a few iterations we are going to calculate a new region of interest and we do that by updating the size of the actual region of interest. And then we also calculate the orientation of the best fitting ellipse to the new region of interest. Again it goes and applies MeanShift within new scaled a search window in previous window location and this process is continued until some sort of required accuracy is met. All this happens for us behind the scenes using openCV.\n"
   ]
  }
 ],
 "metadata": {
  "kernelspec": {
   "display_name": "Python 3",
   "language": "python",
   "name": "python3"
  },
  "language_info": {
   "codemirror_mode": {
    "name": "ipython",
    "version": 3
   },
   "file_extension": ".py",
   "mimetype": "text/x-python",
   "name": "python",
   "nbconvert_exporter": "python",
   "pygments_lexer": "ipython3",
   "version": "3.6.12"
  }
 },
 "nbformat": 4,
 "nbformat_minor": 4
}
