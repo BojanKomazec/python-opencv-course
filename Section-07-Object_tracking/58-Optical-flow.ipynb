{
 "cells": [
  {
   "cell_type": "markdown",
   "metadata": {},
   "source": [
    "# Optical Flow\n",
    "\n",
    "[Optical flow - Wikipedia](https://en.wikipedia.org/wiki/Optical_flow \"Optical flow - Wikipedia\")\n",
    "\n",
    "* a pattern of apparent motion of image objects between two consecutive frames caused by the movement of object or camera\n",
    "\n",
    "Assumptions:\n",
    "* pixel intensities of an object don't change between consecutive frames (object does not change its state which might reflect its appearance in terms of pixel intensities e.g. light bulb is not switching on and off)\n",
    "* neighbouring pixels have similar motion (all parts of the object are moving in the same direction, with the same speed)\n",
    "\n",
    "Optical flow methods in OpenCV:\n",
    "* first take in a given set of points and a frame\n",
    "* then attempt to find those points in the next frame\n",
    "* it is up to the user to supply the points to track\n",
    "\n",
    "[Optical flow and motion detection by Guilherme Gaigher Netto](https://medium.com/@ggaighernt/optical-flow-and-motion-detection-5154c6ba4419)\n",
    "\n",
    "![img](../img/optical_flow_example.jpeg)\n",
    "\n",
    "In this video clip which contains 5 frames (superimposed together into the same image) we can't determine if the ball was moving up right or the camera was moving down left.\n",
    "\n",
    "In OpenCV we pass in the previous frame (e.g. frame 4), previous points (e.g. a point in the centre of the ball) and the current frame (e.g. frame 5) to the Lucas-Kanade function. The function then attempts to locate the points in the current frame. \n",
    "\n",
    "Lucas-Kanade function computes optical flow for a sparse feature set (only the points it was told to track). What if we want to track all the points in a video? Lucas-Kanade can't help us with that. We can use Gunner Farneback's algorithm (available in OpenCV) to calculate *dense optical flow*. This dense optical flow will calculate the optical flow for all points in an image. It will colour them black if no flow (no movement) is detected.\n"
   ]
  }
 ],
 "metadata": {
  "kernelspec": {
   "display_name": "Python 3",
   "language": "python",
   "name": "python3"
  },
  "language_info": {
   "codemirror_mode": {
    "name": "ipython",
    "version": 3
   },
   "file_extension": ".py",
   "mimetype": "text/x-python",
   "name": "python",
   "nbconvert_exporter": "python",
   "pygments_lexer": "ipython3",
   "version": "3.6.12"
  }
 },
 "nbformat": 4,
 "nbformat_minor": 4
}
