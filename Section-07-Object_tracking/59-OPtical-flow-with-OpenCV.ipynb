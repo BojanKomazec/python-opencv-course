{
 "cells": [
  {
   "cell_type": "markdown",
   "metadata": {},
   "source": [
    "# Tracking Sparse Points with Lucas-Kanade method\n",
    "\n",
    "We'll select couple of points and track them in the video, from frame to frame.\n"
   ]
  },
  {
   "cell_type": "code",
   "execution_count": 1,
   "metadata": {},
   "outputs": [],
   "source": [
    "import numpy as np\n",
    "import cv2"
   ]
  },
  {
   "cell_type": "code",
   "execution_count": 2,
   "metadata": {},
   "outputs": [],
   "source": [
    "corner_track_params = dict(maxCorners=10, qualityLevel=0.3, minDistance=7, blockSize=7)"
   ]
  },
  {
   "cell_type": "code",
   "execution_count": 4,
   "metadata": {},
   "outputs": [],
   "source": [
    "# in the first frame of the video we'll detect corners and then track them\n",
    "# Window Size:\n",
    "#    - smaller window => more sensitive to noise, we might miss larger/faster motions\n",
    "#    - larger windows can catch faster motions but might miss smaller motions\n",
    "#\n",
    "# maxLevel defines the level in the image pyramid that will be used. 0 = original image, 1 = 1/2 resolution, 2 = 1/4 resolution etc...\n",
    "# [Pyramid (image processing) - Wikipedia](https://en.wikipedia.org/wiki/Pyramid_(image_processing))\n",
    "# maxLevel allows us to find optical flow at various resolutions of image\n",
    "#\n",
    "# count (maximum number of iterations)=10; More iterations means more exhaustive search for the points in the current frame.\n",
    "# EPS (epsilon)=0.03; smaller eps means finishing earlier; exchsnghing speed vs accuracy of tracking\n",
    "# \n",
    "lucas_kanade_params = dict(winSize=(200, 200), maxLevel=2, criteria=(cv2.TERM_CRITERIA_EPS | cv2.TERM_CRITERIA_COUNT, 10, 0.03))"
   ]
  },
  {
   "cell_type": "code",
   "execution_count": 29,
   "metadata": {},
   "outputs": [],
   "source": [
    "# grab an image from camera\n",
    "\n",
    "# cap = cv2.VideoCapture(0)\n",
    "\n",
    "videoCaptureApi = cv2.CAP_ANY # autodetect default API\n",
    "cap = cv2.VideoCapture(\"/dev/video2\", videoCaptureApi)\n",
    "\n",
    "if not cap.isOpened():\n",
    "    raise RuntimeError(\"ERROR! Unable to open camera\")\n",
    "\n",
    "ret, prev_frame = cap.read() # read frame\n",
    "prev_gray = cv2.cvtColor(prev_frame, cv2.COLOR_BGR2GRAY)\n",
    "\n",
    "# define points which we want to track\n",
    "prevPts = cv2.goodFeaturesToTrack(prev_gray, mask=None, **corner_track_params)\n",
    "\n",
    "mask = np.zeros_like(prev_frame)\n",
    "\n",
    "while True:\n",
    "    ret, frame = cap.read()\n",
    "    frame_gray = cv2.cvtColor(frame, cv2.COLOR_BGR2GRAY)\n",
    "    nextPts, status, err = cv2.calcOpticalFlowPyrLK(prev_gray, frame_gray, prevPts, None, **lucas_kanade_params)\n",
    "    \n",
    "    # status is a vector; its elements are set to 1 if the flow for the corresponding feature has been found; otherwise it's set to 0.\n",
    "    good_new = nextPts[status==1]\n",
    "    good_prev = prevPts[status==1]\n",
    "    for i, (new, prev) in enumerate(zip(good_new, good_prev)):\n",
    "        # ravel() flattens 2d array into a 1d array\n",
    "        x_new, y_new = new.ravel()  \n",
    "        x_prev, y_prev = prev.ravel()\n",
    "        \n",
    "        mask = cv2.line(mask, (x_new, y_new), (x_prev, y_prev), (0, 255, 0), 3)\n",
    "        frame = cv2.circle(frame, (x_new, y_new), 8, (0, 0, 255), -1)\n",
    "    img = cv2.add(frame, mask)\n",
    "    cv2.imshow('tracking', img)\n",
    "    \n",
    "    key = cv2.waitKey(30) & 0xFF\n",
    "    if key == 27:\n",
    "        break\n",
    "        \n",
    "    prev_gray = frame_gray.copy()\n",
    "    prevPts = good_new.reshape(-1, 1, 2)\n",
    "    \n",
    "cv2.destroyAllWindows()\n",
    "cap.release()"
   ]
  }
 ],
 "metadata": {
  "kernelspec": {
   "display_name": "Python 3",
   "language": "python",
   "name": "python3"
  },
  "language_info": {
   "codemirror_mode": {
    "name": "ipython",
    "version": 3
   },
   "file_extension": ".py",
   "mimetype": "text/x-python",
   "name": "python",
   "nbconvert_exporter": "python",
   "pygments_lexer": "ipython3",
   "version": "3.6.6"
  }
 },
 "nbformat": 4,
 "nbformat_minor": 4
}
