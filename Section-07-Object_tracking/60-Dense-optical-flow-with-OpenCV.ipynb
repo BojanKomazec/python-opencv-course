{
 "cells": [
  {
   "cell_type": "markdown",
   "metadata": {},
   "source": [
    "# Dense Optical Flow with OpenCV"
   ]
  },
  {
   "cell_type": "code",
   "execution_count": 2,
   "metadata": {},
   "outputs": [],
   "source": [
    "import cv2\n",
    "import numpy as np"
   ]
  },
  {
   "cell_type": "code",
   "execution_count": 8,
   "metadata": {},
   "outputs": [
    {
     "name": "stdout",
     "output_type": "stream",
     "text": [
      "cv2 version = 4.5.0\n"
     ]
    }
   ],
   "source": [
    "print(F'cv2 version = {cv2.__version__}')\n",
    "# ouput: cv2 version = 4.5.0\n",
    "\n",
    "videoCaptureApi = cv2.CAP_ANY # autodetect default API\n",
    "\n",
    "# this works if conda-forge::opencv=4.5.0 is installed in the local environment\n",
    "cap = cv2.VideoCapture(\"/dev/video0\", videoCaptureApi)\n",
    "\n",
    "if not cap.isOpened():\n",
    "    raise RuntimeError(\"ERROR! Unable to open camera\")\n",
    "\n",
    "ret, frame1 = cap.read()\n",
    "prev_img = cv2.cvtColor(frame1, cv2.COLOR_BGR2GRAY)\n",
    "hsv_mask = np.zeros_like(frame1)\n",
    "hsv_mask[:,:,1] = 255\n",
    "\n",
    "while True:\n",
    "    ret, frame2 = cap.read()\n",
    "    next_img = cv2.cvtColor(frame2, cv2.COLOR_BGR2GRAY)\n",
    "    flow = cv2.calcOpticalFlowFarneback(prev_img, next_img, None, 0.5, 3, 15, 3, 5, 1.2, 0)\n",
    "    \n",
    "    # Flow object contains a vector flow Cartesian information. This vector is pointing at \n",
    "    # which direction the flow for each pixels is happening. We basically have x and y coordinates\n",
    "    # of that vector.\n",
    "    \n",
    "    # We want to convert this into polar coordinates to magnitude and angle. We can then turn this\n",
    "    # into Hue-Saturation-Value mapping. Hue - angle, Saturation - magnitude. If points are moving\n",
    "    # into particular direction they will coloured the same way. If everything moves left, they'll\n",
    "    # be coloured red, if everything moves blue, they'll be coloured blue.\n",
    "    \n",
    "    magnitude, angle = cv2.cartToPolar(flow[:, :, 0], flow[:, :, 1], angleInDegrees=True)\n",
    "    hsv_mask[:, :, 0] = angle/2\n",
    "    hsv_mask[:, :, 2] = cv2.normalize(magnitude, None, 0, 255, cv2.NORM_MINMAX)\n",
    "    \n",
    "    bgr_img = cv2.cvtColor(hsv_mask, cv2.COLOR_HSV2BGR)\n",
    "    cv2.imshow('frame', bgr_img)\n",
    "    \n",
    "    k = cv2.waitKey(10) & 0xFF\n",
    "    if k == 27:\n",
    "        break\n",
    "        \n",
    "    prev_img = next_img\n",
    "    \n",
    "cap.release()\n",
    "cv2.destroyAllWindows()"
   ]
  },
  {
   "cell_type": "markdown",
   "metadata": {},
   "source": [
    "Here are two captures of the video output. \n",
    "\n",
    "This one was made when I moved to the right:\n",
    "\n",
    "![](../img/optical-flow-right-move.png)\n",
    "\n",
    "This one was made when I moved to the left:\n",
    "\n",
    "![](../img/optical-flow-left-move.png)"
   ]
  }
 ],
 "metadata": {
  "kernelspec": {
   "display_name": "Python 3",
   "language": "python",
   "name": "python3"
  },
  "language_info": {
   "codemirror_mode": {
    "name": "ipython",
    "version": 3
   },
   "file_extension": ".py",
   "mimetype": "text/x-python",
   "name": "python",
   "nbconvert_exporter": "python",
   "pygments_lexer": "ipython3",
   "version": "3.6.12"
  }
 },
 "nbformat": 4,
 "nbformat_minor": 4
}
